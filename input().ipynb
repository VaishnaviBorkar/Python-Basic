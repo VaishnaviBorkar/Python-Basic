{
  "nbformat": 4,
  "nbformat_minor": 0,
  "metadata": {
    "colab": {
      "name": "input().ipynb",
      "provenance": [],
      "collapsed_sections": []
    },
    "kernelspec": {
      "name": "python3",
      "display_name": "Python 3"
    },
    "language_info": {
      "name": "python"
    }
  },
  "cells": [
    {
      "cell_type": "code",
      "metadata": {
        "colab": {
          "base_uri": "https://localhost:8080/"
        },
        "id": "ZFSre-9nkcci",
        "outputId": "06ee5d2f-bc9d-4f3a-9ffa-cdef08757638"
      },
      "source": [
        "a=input(\"Enter Your Input :\")\n",
        "print(a)\n",
        "type(a) "
      ],
      "execution_count": 3,
      "outputs": [
        {
          "output_type": "stream",
          "name": "stdout",
          "text": [
            "Enter Your Input :5\n",
            "5\n"
          ]
        },
        {
          "output_type": "execute_result",
          "data": {
            "text/plain": [
              "str"
            ]
          },
          "metadata": {},
          "execution_count": 3
        }
      ]
    },
    {
      "cell_type": "markdown",
      "metadata": {
        "id": "SciApcxZk7QA"
      },
      "source": [
        "input() return us a string value"
      ]
    },
    {
      "cell_type": "code",
      "metadata": {
        "colab": {
          "base_uri": "https://localhost:8080/"
        },
        "id": "_uSNcZapk_yM",
        "outputId": "8e179823-5b51-4605-f94b-2cc8cdcc5d0e"
      },
      "source": [
        "a=input(\"Enter First Value :\")\n",
        "b=input(\"Enter Second Value :\")\n",
        "print(\"addition\",(a+b)) #concatinates str values\n",
        "print(a+b)            #concatinates str values\n",
        "print('addition :{}'.format(a+b))   #concatinates str values"
      ],
      "execution_count": 10,
      "outputs": [
        {
          "output_type": "stream",
          "name": "stdout",
          "text": [
            "Enter First Value :6\n",
            "Enter Second Value :7\n",
            "addition 67\n",
            "67\n",
            "addition :67\n"
          ]
        }
      ]
    },
    {
      "cell_type": "code",
      "metadata": {
        "colab": {
          "base_uri": "https://localhost:8080/",
          "height": 165
        },
        "id": "YG-7SEujm2WT",
        "outputId": "09e04d21-942f-4060-b394-72dba5697e2a"
      },
      "source": [
        "print(\"multiplication\",(a*b)) # input() returns the str values"
      ],
      "execution_count": 13,
      "outputs": [
        {
          "output_type": "error",
          "ename": "TypeError",
          "evalue": "ignored",
          "traceback": [
            "\u001b[0;31m---------------------------------------------------------------------------\u001b[0m",
            "\u001b[0;31mTypeError\u001b[0m                                 Traceback (most recent call last)",
            "\u001b[0;32m<ipython-input-13-f8c26e855989>\u001b[0m in \u001b[0;36m<module>\u001b[0;34m()\u001b[0m\n\u001b[0;32m----> 1\u001b[0;31m \u001b[0mprint\u001b[0m\u001b[0;34m(\u001b[0m\u001b[0;34m\"multiplication\"\u001b[0m\u001b[0;34m,\u001b[0m\u001b[0;34m(\u001b[0m\u001b[0ma\u001b[0m\u001b[0;34m*\u001b[0m\u001b[0mb\u001b[0m\u001b[0;34m)\u001b[0m\u001b[0;34m)\u001b[0m \u001b[0;31m# can't multiply sequence by non-int of type 'str'\u001b[0m\u001b[0;34m\u001b[0m\u001b[0;34m\u001b[0m\u001b[0m\n\u001b[0m",
            "\u001b[0;31mTypeError\u001b[0m: can't multiply sequence by non-int of type 'str'"
          ]
        }
      ]
    },
    {
      "cell_type": "markdown",
      "metadata": {
        "id": "LzNwxNZ_mRXV"
      },
      "source": [
        "<h1>to perform multiplication parse or type cast the inputed value to perform addition</h1>"
      ]
    },
    {
      "cell_type": "code",
      "metadata": {
        "colab": {
          "base_uri": "https://localhost:8080/"
        },
        "id": "PIy8hd2WnOLh",
        "outputId": "e223ace7-df50-4095-9fc4-82623098782c"
      },
      "source": [
        "x=int(input(\"enter 1st number :\"))\n",
        "y=int(input(\"enter 2nd number :\"))\n",
        "mult=x*y\n",
        "print(mult)"
      ],
      "execution_count": 15,
      "outputs": [
        {
          "output_type": "stream",
          "name": "stdout",
          "text": [
            "enter 1st number :4\n",
            "enter 2nd number :5\n",
            "20\n"
          ]
        }
      ]
    }
  ]
}