{
  "nbformat": 4,
  "nbformat_minor": 0,
  "metadata": {
    "colab": {
      "name": "Random_generator.ipynb",
      "provenance": [],
      "collapsed_sections": []
    },
    "kernelspec": {
      "name": "python3",
      "display_name": "Python 3"
    },
    "language_info": {
      "name": "python"
    }
  },
  "cells": [
    {
      "cell_type": "markdown",
      "metadata": {
        "id": "_rhyN4hs__XD"
      },
      "source": [
        "random() is a predefiend method present in random module which is used to generate random float numbers from 0 to 1"
      ]
    },
    {
      "cell_type": "code",
      "metadata": {
        "colab": {
          "base_uri": "https://localhost:8080/"
        },
        "id": "eAiHsbg2-rjg",
        "outputId": "2a6e3083-ff67-4261-8aa2-dca3c927b38b"
      },
      "source": [
        "import random\n",
        "x=random.random()\n",
        "print(x)"
      ],
      "execution_count": 2,
      "outputs": [
        {
          "output_type": "stream",
          "name": "stdout",
          "text": [
            "0.6206164808025153\n"
          ]
        }
      ]
    },
    {
      "cell_type": "markdown",
      "metadata": {
        "id": "PNYlkNuaA_th"
      },
      "source": [
        "\n",
        "randint() -----> randint() is nothing but the predefined method present in the random module which is used to genrate integer number within the specific range. randint() having two arguments that can can be pass when it call for providing range."
      ]
    },
    {
      "cell_type": "code",
      "metadata": {
        "colab": {
          "base_uri": "https://localhost:8080/"
        },
        "id": "u_qDdCeUAS44",
        "outputId": "455ca39f-ead9-4a02-c099-e771bf41885a"
      },
      "source": [
        "# randint(from,till)\n",
        "import random\n",
        "x=random.randint(1,4)\n",
        "print(x)"
      ],
      "execution_count": 16,
      "outputs": [
        {
          "output_type": "stream",
          "name": "stdout",
          "text": [
            "4\n"
          ]
        }
      ]
    },
    {
      "cell_type": "code",
      "metadata": {
        "colab": {
          "base_uri": "https://localhost:8080/"
        },
        "id": "cVN_F8QrBCWx",
        "outputId": "366dd136-e59b-4bfe-ed64-b16cef763a1b"
      },
      "source": [
        "#WAP to generate random number and stored it in the list.\n",
        "import random\n",
        "x=[]\n",
        "for i in range(0,10):\n",
        "  x.append(random.randint(1,10))\n",
        "print(x)"
      ],
      "execution_count": 20,
      "outputs": [
        {
          "output_type": "stream",
          "name": "stdout",
          "text": [
            "[5, 3, 9, 10, 2, 1, 1, 5, 10, 9]\n"
          ]
        }
      ]
    },
    {
      "cell_type": "code",
      "metadata": {
        "colab": {
          "base_uri": "https://localhost:8080/"
        },
        "id": "uL5h9eGQBqjj",
        "outputId": "ecc697fc-3d42-4c56-8103-90fed34f0212"
      },
      "source": [
        "import random\n",
        "x=[]\n",
        "for i in range(0,10):\n",
        "  num=random.randint(1,60)\n",
        "  x.append(num)\n",
        "print(x)"
      ],
      "execution_count": 21,
      "outputs": [
        {
          "output_type": "stream",
          "name": "stdout",
          "text": [
            "[34, 5, 22, 46, 20, 8, 13, 40, 34, 57]\n"
          ]
        }
      ]
    },
    {
      "cell_type": "markdown",
      "metadata": {
        "id": "L4i1GGlhB9oD"
      },
      "source": [
        "\n",
        "sample() ---> sample() is nothing but the predefined method in python which is present in the random module which is used to generate list of random numbers. sample() method having two arguments that can be pass when it called , so first argument belongs to range of the random number generator and second is the number of random number."
      ]
    },
    {
      "cell_type": "code",
      "metadata": {
        "colab": {
          "base_uri": "https://localhost:8080/"
        },
        "id": "lwJb51fwB8dS",
        "outputId": "a7b78364-0168-4af6-cb95-a667ea288611"
      },
      "source": [
        "import random\n",
        "x=[]\n",
        "x.append(random.sample(range(1,50),10))\n",
        "print(x)"
      ],
      "execution_count": 26,
      "outputs": [
        {
          "output_type": "stream",
          "name": "stdout",
          "text": [
            "[[9, 8, 35, 14, 49, 46, 27, 33, 34, 28]]\n"
          ]
        }
      ]
    },
    {
      "cell_type": "markdown",
      "metadata": {
        "id": "lIDGpUB8DB_a"
      },
      "source": [
        "calender module in python"
      ]
    },
    {
      "cell_type": "code",
      "metadata": {
        "colab": {
          "base_uri": "https://localhost:8080/"
        },
        "id": "VNEXi6KUDFG4",
        "outputId": "f19dd9fd-673e-4074-9098-eb008d2f9391"
      },
      "source": [
        "import calendar\n",
        "yy=int(input(\"Enter year\"))\n",
        "mm=int(input(\"Enter month\"))\n",
        "print(\"\\t calender\")\n",
        "print(calendar.month(yy,mm))"
      ],
      "execution_count": 31,
      "outputs": [
        {
          "output_type": "stream",
          "name": "stdout",
          "text": [
            "Enter year21\n",
            "Enter month12\n",
            "\t calender\n",
            "    December 21\n",
            "Mo Tu We Th Fr Sa Su\n",
            "       1  2  3  4  5\n",
            " 6  7  8  9 10 11 12\n",
            "13 14 15 16 17 18 19\n",
            "20 21 22 23 24 25 26\n",
            "27 28 29 30 31\n",
            "\n"
          ]
        }
      ]
    }
  ]
}