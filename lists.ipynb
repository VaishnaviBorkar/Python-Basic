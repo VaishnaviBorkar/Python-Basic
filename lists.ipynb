{
  "nbformat": 4,
  "nbformat_minor": 0,
  "metadata": {
    "colab": {
      "name": "lists.ipynb",
      "provenance": []
    },
    "kernelspec": {
      "name": "python3",
      "display_name": "Python 3"
    },
    "language_info": {
      "name": "python"
    }
  },
  "cells": [
    {
      "cell_type": "markdown",
      "metadata": {
        "id": "G1HdrtnEfbjC"
      },
      "source": [
        "lists in python"
      ]
    },
    {
      "cell_type": "code",
      "metadata": {
        "colab": {
          "base_uri": "https://localhost:8080/"
        },
        "id": "OnXjtGw6fV6I",
        "outputId": "618e8828-fa43-4bd7-f43a-21d57a75e654"
      },
      "source": [
        "#create an empty list\n",
        "a=[]\n",
        "print(a)\n",
        "print(type(a))"
      ],
      "execution_count": 1,
      "outputs": [
        {
          "output_type": "stream",
          "name": "stdout",
          "text": [
            "[]\n",
            "<class 'list'>\n"
          ]
        }
      ]
    },
    {
      "cell_type": "code",
      "metadata": {
        "colab": {
          "base_uri": "https://localhost:8080/"
        },
        "id": "l3Jxg2hKfwx1",
        "outputId": "67c18f72-3581-482f-f66c-638fff65cd0d"
      },
      "source": [
        "#assign elemets to list --heterogeneous,homo\n",
        "b=[2,\"vaishnavi\",9075]\n",
        "print(b)\n",
        "c=[4,7,65,23]\n",
        "print(c)"
      ],
      "execution_count": 11,
      "outputs": [
        {
          "output_type": "stream",
          "name": "stdout",
          "text": [
            "[2, 'vaishnavi', 9075]\n",
            "[4, 7, 65, 23]\n"
          ]
        }
      ]
    },
    {
      "cell_type": "code",
      "metadata": {
        "colab": {
          "base_uri": "https://localhost:8080/"
        },
        "id": "p2nYcUFVg9G7",
        "outputId": "d8112af6-76ee-483b-b7e6-847f8f85eb50"
      },
      "source": [
        "#list inside list \n",
        "list1=[\"vaishnavi\",\"lata\",[23,78,65]]\n",
        "print(list1)\n"
      ],
      "execution_count": 12,
      "outputs": [
        {
          "output_type": "stream",
          "name": "stdout",
          "text": [
            "['vaishnavi', 'lata', [23, 78, 65]]\n"
          ]
        }
      ]
    },
    {
      "cell_type": "code",
      "metadata": {
        "colab": {
          "base_uri": "https://localhost:8080/"
        },
        "id": "kZoXy092gfo_",
        "outputId": "1b000dfd-f4ab-4c04-a2d5-4d896e0107f8"
      },
      "source": [
        "#append element to list\n",
        "c.append(67) #mutable /changable\n",
        "print(c)"
      ],
      "execution_count": 13,
      "outputs": [
        {
          "output_type": "stream",
          "name": "stdout",
          "text": [
            "[4, 7, 65, 23, 67]\n"
          ]
        }
      ]
    },
    {
      "cell_type": "code",
      "metadata": {
        "colab": {
          "base_uri": "https://localhost:8080/"
        },
        "id": "gDi1nw85gpUu",
        "outputId": "7a8061c4-777e-40de-f870-e437ec6e8e89"
      },
      "source": [
        "#appent list to list\n",
        "list2=[56,89,87]\n",
        "c.append(list2)\n",
        "print(c)"
      ],
      "execution_count": 10,
      "outputs": [
        {
          "output_type": "stream",
          "name": "stdout",
          "text": [
            "[4, 7, 65, 23, 67, [56, 89, 87]]\n"
          ]
        }
      ]
    },
    {
      "cell_type": "code",
      "metadata": {
        "colab": {
          "base_uri": "https://localhost:8080/"
        },
        "id": "dblxdglohyv9",
        "outputId": "9967f81d-e60b-4d74-f428-bce55a9cfba9"
      },
      "source": [
        "#accesing list elements -- satrt index starts= ( 0 to n-1 )\n",
        "list=['mango','orange','lemon']\n",
        "print(list[1])"
      ],
      "execution_count": 15,
      "outputs": [
        {
          "output_type": "stream",
          "name": "stdout",
          "text": [
            "orange\n"
          ]
        }
      ]
    },
    {
      "cell_type": "code",
      "metadata": {
        "colab": {
          "base_uri": "https://localhost:8080/"
        },
        "id": "VsxVqBV_iID5",
        "outputId": "167d0697-a091-4203-f9b0-00fc738c18d0"
      },
      "source": [
        "#accessing list element -- end index starts -1 to -n \n",
        "print(list[-1],list[-3])"
      ],
      "execution_count": 17,
      "outputs": [
        {
          "output_type": "stream",
          "name": "stdout",
          "text": [
            "lemon mango\n"
          ]
        }
      ]
    },
    {
      "cell_type": "code",
      "metadata": {
        "colab": {
          "base_uri": "https://localhost:8080/"
        },
        "id": "HlNaE-Gkikd5",
        "outputId": "5902436f-2af2-4729-8f58-6859542d4778"
      },
      "source": [
        "#rangs in list listname[startIndex:endIndex]\n",
        "#start index is included & end index is excluded\n",
        "course=['bsc','bca','bba','msc','mca','mba']\n",
        "print(course)\n",
        "print(course[2:5])\n",
        "print(course[-5:-2])"
      ],
      "execution_count": 23,
      "outputs": [
        {
          "output_type": "stream",
          "name": "stdout",
          "text": [
            "['bsc', 'bca', 'bba', 'msc', 'mca', 'mba']\n",
            "['bba', 'msc', 'mca']\n",
            "['bca', 'bba', 'msc']\n"
          ]
        }
      ]
    },
    {
      "cell_type": "code",
      "metadata": {
        "colab": {
          "base_uri": "https://localhost:8080/"
        },
        "id": "rAIwFYF-j8a7",
        "outputId": "6ed043c4-3ba1-44f0-8497-85ab0aeab8e6"
      },
      "source": [
        "#some triks\n",
        "print(course[:4])\n",
        "#start index will be i.e start= 0\n",
        "print(course[2:])\n",
        "#end index will be i.e end= 5"
      ],
      "execution_count": 30,
      "outputs": [
        {
          "output_type": "stream",
          "name": "stdout",
          "text": [
            "['bsc', 'bca', 'bba', 'msc']\n",
            "['bba', 'msc', 'mca', 'mba']\n"
          ]
        }
      ]
    },
    {
      "cell_type": "code",
      "metadata": {
        "colab": {
          "base_uri": "https://localhost:8080/"
        },
        "id": "nkMLxesmk2PK",
        "outputId": "304eeee5-e115-4ed4-b6f1-297c8b1499b0"
      },
      "source": [
        "print(course[-5:])#ens index will be start i.e -1\n",
        "print(course[:-3]) #start index will be end i.e -6"
      ],
      "execution_count": 35,
      "outputs": [
        {
          "output_type": "stream",
          "name": "stdout",
          "text": [
            "['bca', 'bba', 'msc', 'mca', 'mba']\n",
            "['bsc', 'bca', 'bba']\n"
          ]
        }
      ]
    },
    {
      "cell_type": "code",
      "metadata": {
        "id": "lQX_U-wOjX2o"
      },
      "source": [
        ""
      ],
      "execution_count": null,
      "outputs": []
    }
  ]
}