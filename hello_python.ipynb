{
  "nbformat": 4,
  "nbformat_minor": 0,
  "metadata": {
    "colab": {
      "name": "hello_python.ipynb",
      "provenance": [],
      "collapsed_sections": []
    },
    "kernelspec": {
      "name": "python3",
      "display_name": "Python 3"
    },
    "language_info": {
      "name": "python"
    }
  },
  "cells": [
    {
      "cell_type": "code",
      "metadata": {
        "id": "YQrTlrhwWZTK"
      },
      "source": [
        ""
      ],
      "execution_count": null,
      "outputs": []
    },
    {
      "cell_type": "markdown",
      "metadata": {
        "id": "0HyQM3j9Wa7T"
      },
      "source": [
        "<h2>Welcome in python</h2>\n",
        "<p>use of print()</p>\n"
      ]
    },
    {
      "cell_type": "code",
      "metadata": {
        "id": "BvxNgsckzmxr"
      },
      "source": [
        ""
      ],
      "execution_count": null,
      "outputs": []
    },
    {
      "cell_type": "code",
      "metadata": {
        "colab": {
          "base_uri": "https://localhost:8080/"
        },
        "id": "jiIbGFSSXJaV",
        "outputId": "177963d5-db2d-4e7e-8c1f-058f1cb2ed8e"
      },
      "source": [
        "print(\"hellow python\")"
      ],
      "execution_count": null,
      "outputs": [
        {
          "output_type": "stream",
          "name": "stdout",
          "text": [
            "hellow python\n"
          ]
        }
      ]
    }
  ]
}