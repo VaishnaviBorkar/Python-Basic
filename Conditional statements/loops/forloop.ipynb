{
  "nbformat": 4,
  "nbformat_minor": 0,
  "metadata": {
    "colab": {
      "name": "forloop.ipynb",
      "provenance": [],
      "collapsed_sections": []
    },
    "kernelspec": {
      "name": "python3",
      "display_name": "Python 3"
    },
    "language_info": {
      "name": "python"
    }
  },
  "cells": [
    {
      "cell_type": "code",
      "metadata": {
        "colab": {
          "base_uri": "https://localhost:8080/"
        },
        "id": "lkqhhCww9m3n",
        "outputId": "898f950e-9fb4-4f20-9a73-783e564ef535"
      },
      "source": [
        "x=[2,2,3,4,4]\n",
        "for i in x:\n",
        "  print(i,type(i))\n"
      ],
      "execution_count": 4,
      "outputs": [
        {
          "output_type": "stream",
          "name": "stdout",
          "text": [
            "2 <class 'int'>\n",
            "2 <class 'int'>\n",
            "3 <class 'int'>\n",
            "4 <class 'int'>\n",
            "4 <class 'int'>\n"
          ]
        }
      ]
    },
    {
      "cell_type": "code",
      "metadata": {
        "colab": {
          "base_uri": "https://localhost:8080/"
        },
        "id": "3brt2Fhx-UP1",
        "outputId": "fafc4e40-83d6-4d6c-ca9f-e0bb1f19ebee"
      },
      "source": [
        "x=[2,'2',3.99,('yellow','orange'),[4,8,0]]\n",
        "for i in x:\n",
        "  print(i,type(i))"
      ],
      "execution_count": 10,
      "outputs": [
        {
          "output_type": "stream",
          "name": "stdout",
          "text": [
            "2 <class 'int'>\n",
            "2 <class 'str'>\n",
            "3.99 <class 'float'>\n",
            "('yellow', 'orange') <class 'tuple'>\n",
            "[4, 8, 0] <class 'list'>\n"
          ]
        }
      ]
    }
  ]
}