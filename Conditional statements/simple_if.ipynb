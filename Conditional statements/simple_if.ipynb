{
  "nbformat": 4,
  "nbformat_minor": 0,
  "metadata": {
    "colab": {
      "name": "simple_if.ipynb",
      "provenance": [],
      "collapsed_sections": []
    },
    "kernelspec": {
      "name": "python3",
      "display_name": "Python 3"
    },
    "language_info": {
      "name": "python"
    }
  },
  "cells": [
    {
      "cell_type": "code",
      "metadata": {
        "colab": {
          "base_uri": "https://localhost:8080/"
        },
        "id": "vMkLhhG9v3Pm",
        "outputId": "07f3b7ef-0472-44af-f8e8-9853d7f0c5f6"
      },
      "source": [
        "x=10;\n",
        "if x==10:\n",
        "  print(\"Execute code....\")\n",
        "print(\"print error out of if block\")  "
      ],
      "execution_count": 1,
      "outputs": [
        {
          "output_type": "stream",
          "name": "stdout",
          "text": [
            "Execute code....\n",
            "print error out of if block\n"
          ]
        }
      ]
    },
    {
      "cell_type": "code",
      "metadata": {
        "colab": {
          "base_uri": "https://localhost:8080/"
        },
        "id": "mdcT0kTgwYQI",
        "outputId": "324f6bdd-31d9-4676-cf7d-1e2254ea85a9"
      },
      "source": [
        "#3 if always works on true condition\n",
        "x='10';\n",
        "if x==10:\n",
        "  print(\"Execute code....\")\n",
        "print(\"print error out of if block\")  "
      ],
      "execution_count": 5,
      "outputs": [
        {
          "output_type": "stream",
          "name": "stdout",
          "text": [
            "print error out of if block\n"
          ]
        }
      ]
    },
    {
      "cell_type": "code",
      "metadata": {
        "colab": {
          "base_uri": "https://localhost:8080/"
        },
        "id": "n3fxELq5wlh8",
        "outputId": "a0acc231-302f-49d5-f279-3f363dadb07c"
      },
      "source": [
        "x=20;\n",
        "if x==10:\n",
        "  print(\"Execute code....\")\n",
        "print(\"print error out of if block\")  "
      ],
      "execution_count": 6,
      "outputs": [
        {
          "output_type": "stream",
          "name": "stdout",
          "text": [
            "print error out of if block\n"
          ]
        }
      ]
    },
    {
      "cell_type": "code",
      "metadata": {
        "colab": {
          "base_uri": "https://localhost:8080/"
        },
        "id": "aHkq-jdCwwwR",
        "outputId": "6195d132-7cad-4a26-b5c6-935d0b89a8e6"
      },
      "source": [
        "x=1\n",
        "if x:\n",
        "  print(\"condition is true\",x)\n",
        "y=0\n",
        "if y:\n",
        "  print(\"true \",y)  "
      ],
      "execution_count": 14,
      "outputs": [
        {
          "output_type": "stream",
          "name": "stdout",
          "text": [
            "condition is true 1\n"
          ]
        }
      ]
    }
  ]
}