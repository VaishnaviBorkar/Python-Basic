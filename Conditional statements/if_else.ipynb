{
  "nbformat": 4,
  "nbformat_minor": 0,
  "metadata": {
    "colab": {
      "name": "if_else.ipynb",
      "provenance": [],
      "collapsed_sections": []
    },
    "kernelspec": {
      "name": "python3",
      "display_name": "Python 3"
    },
    "language_info": {
      "name": "python"
    }
  },
  "cells": [
    {
      "cell_type": "code",
      "metadata": {
        "colab": {
          "base_uri": "https://localhost:8080/"
        },
        "id": "APHgyf2rxz0E",
        "outputId": "23adc12f-3d48-4b20-be16-0f5c1b9cfd52"
      },
      "source": [
        "# check weather the person is illigible for votting or not\n",
        "x=int(input(\"Enter Your age ->\"))\n",
        "if x>=18:\n",
        "  print(\"your iligible for votting\")\n",
        "else:\n",
        "  print(\"Not iligible for votting !\") \n",
        "  \n"
      ],
      "execution_count": 3,
      "outputs": [
        {
          "output_type": "stream",
          "name": "stdout",
          "text": [
            "Enter Your age ->45\n",
            "your iligible for votting\n"
          ]
        }
      ]
    },
    {
      "cell_type": "code",
      "metadata": {
        "colab": {
          "base_uri": "https://localhost:8080/"
        },
        "id": "4v04vdI_yq12",
        "outputId": "18c37837-f4d1-4f36-bc98-6628f2fa8f21"
      },
      "source": [
        "#IF ALWAYS WORKS ON TRUE CONDITION ELSE ALWAYS WORKS ON FALSE CONDITIONS\n",
        "x=0\n",
        "if x:\n",
        "  print(\"HELLOW\")\n",
        "else:\n",
        "  print(\"BYE\")  "
      ],
      "execution_count": 5,
      "outputs": [
        {
          "output_type": "stream",
          "name": "stdout",
          "text": [
            "BYE\n"
          ]
        }
      ]
    }
  ]
}