{
  "nbformat": 4,
  "nbformat_minor": 0,
  "metadata": {
    "colab": {
      "name": "Nested_ifelse.ipynb",
      "provenance": [],
      "collapsed_sections": []
    },
    "kernelspec": {
      "name": "python3",
      "display_name": "Python 3"
    },
    "language_info": {
      "name": "python"
    }
  },
  "cells": [
    {
      "cell_type": "code",
      "metadata": {
        "colab": {
          "base_uri": "https://localhost:8080/"
        },
        "id": "pzeAeAFszp70",
        "outputId": "0633f952-eec2-4e8e-c233-7d4e455a3ab0"
      },
      "source": [
        "#nested if else example.. check greater numbwe among 3 numbers\n",
        "a=int(input(\"Enter first number\"))\n",
        "b=int(input(\"Enter second number\"))\n",
        "c=int(input(\"Enter third number\"))\n",
        "if a>b:\n",
        "  if a>c:\n",
        "    print(a,\"is greater than\",b,\"and\",c)\n",
        "  else:\n",
        "    print(c,\"is greater than\",a,\"and\",b)\n",
        "else:\n",
        "  if b>c:\n",
        "    print(b,\"is greater than\",a,\"and\",c)\n",
        "  else:\n",
        "    print(c,\"is greater than\",a,\"and\",b)    "
      ],
      "execution_count": 2,
      "outputs": [
        {
          "output_type": "stream",
          "name": "stdout",
          "text": [
            "Enter first number5\n",
            "Enter second number9\n",
            "Enter third number2\n",
            "9 is greater than 5 and 2\n"
          ]
        }
      ]
    },
    {
      "cell_type": "code",
      "metadata": {
        "colab": {
          "base_uri": "https://localhost:8080/"
        },
        "id": "m9OmVt4T0qtw",
        "outputId": "f2f63342-27ff-4e6d-e68a-9698363a6e39"
      },
      "source": [
        "a=float(input(\"Enter first number\"))\n",
        "b=float(input(\"Enter first number\")) # if i input 6 (int) it consider it as 6.0 (float)\n",
        "c=int(input(\"Enter third number\"))\n",
        "if a>b:\n",
        "  if a>c:\n",
        "    print(a,\"is greater than\",b,\"and\",c)\n",
        "  else:\n",
        "    print(c,\"is greater than\",a,\"and\",b)\n",
        "else:\n",
        "  if b>c:\n",
        "    print(b,\"is greater than\",a,\"and\",c)\n",
        "  else:\n",
        "    print(c,\"is greater than\",a,\"and\",b)    "
      ],
      "execution_count": 9,
      "outputs": [
        {
          "output_type": "stream",
          "name": "stdout",
          "text": [
            "Enter first number5.7\n",
            "Enter first number6\n",
            "Enter third number7\n",
            "7 is greater than 5.7 and 6.0\n"
          ]
        }
      ]
    }
  ]
}