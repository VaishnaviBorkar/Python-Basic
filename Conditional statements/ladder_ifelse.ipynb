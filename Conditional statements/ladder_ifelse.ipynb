{
  "nbformat": 4,
  "nbformat_minor": 0,
  "metadata": {
    "colab": {
      "name": "ladder_ifelse.ipynb",
      "provenance": [],
      "collapsed_sections": []
    },
    "kernelspec": {
      "name": "python3",
      "display_name": "Python 3"
    },
    "language_info": {
      "name": "python"
    }
  },
  "cells": [
    {
      "cell_type": "code",
      "metadata": {
        "colab": {
          "base_uri": "https://localhost:8080/"
        },
        "id": "SIMT4-iM2G0O",
        "outputId": "96ba89b7-07d3-411a-c31a-a968da68da0b"
      },
      "source": [
        "marks=int(input(\"Enter your marks\"))\n",
        "if marks<30:\n",
        "  print(\"fail\")\n",
        "elif marks<55:\n",
        "  print(\"C grade\")  \n",
        "elif mark<65:\n",
        "  print(\"b grade\")\n",
        "elif mark<75:\n",
        "  print(\"a grade\")  \n",
        "else:\n",
        "  print(\"First class\")"
      ],
      "execution_count": 6,
      "outputs": [
        {
          "output_type": "stream",
          "name": "stdout",
          "text": [
            "Enter your marks78\n",
            "hh\n"
          ]
        }
      ]
    }
  ]
}