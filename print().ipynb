{
  "nbformat": 4,
  "nbformat_minor": 0,
  "metadata": {
    "colab": {
      "name": "print().ipynb",
      "provenance": [],
      "collapsed_sections": []
    },
    "kernelspec": {
      "name": "python3",
      "display_name": "Python 3"
    },
    "language_info": {
      "name": "python"
    }
  },
  "cells": [
    {
      "cell_type": "markdown",
      "metadata": {
        "id": "10xCm82FJ2jX"
      },
      "source": [
        "<h2>print()</h2>\n",
        "<b>syntax: print(value,seperater=' ',end=' ',file=file, flush=flush)</b>\n",
        "<ul>\n",
        "<li>value : represent the value/message which should be display on o/p screen(the value will be converted to string before display on o/p)</li>\n",
        "<li>seperator : seperate two values/messages (bydefault=space) </li>\n",
        "<li>end : what should display at the end of value (bydefault=new line)</li>\n",
        "<li>file : specify the file where you want to write the o/p (bydefault=sys:std.out) </li>\n",
        "<li>flush : whether the o/p should remove or remain as it is if(flush=1) remove else as it is</li>\n",
        "</ul>"
      ]
    },
    {
      "cell_type": "code",
      "metadata": {
        "colab": {
          "base_uri": "https://localhost:8080/"
        },
        "id": "6UegNB27sp-o",
        "outputId": "5a818143-e098-41a0-a070-bc181ab19fb4"
      },
      "source": [
        "# 1. value/string literal\n",
        "print(\"heloow !\\nthis is vaishnavi !\\twhats your name?\")"
      ],
      "execution_count": null,
      "outputs": [
        {
          "output_type": "stream",
          "name": "stdout",
          "text": [
            "heloow !\n",
            "this is vaishnavi !\twhats your name?\n"
          ]
        }
      ]
    },
    {
      "cell_type": "code",
      "metadata": {
        "colab": {
          "base_uri": "https://localhost:8080/"
        },
        "id": "6TXs1EnGtPot",
        "outputId": "b20235bc-9b80-4190-f2e2-a48cb8099163"
      },
      "source": [
        "#2. seperators\n",
        "print(\"seperator is used to seperate two values\",\"it specify how to seperate two strings/values\",sep=\"**\")\n",
        "print(\"string 1\",\"string 2\",sep=\"*\\t*\") # seperate by * 5 space and *\n",
        "print(\"string 1\",\"string 2\",sep=\"\\n\\n\") # seperate by 2 new lines\n",
        "print(\"string 1\",\"string 2\",sep=\"---\")  # seperate by ---\n",
        "print(\"value\",56,sep=\"=\") #seperate String & value by =\n",
        "print(\"hellow\",\"VAISHNAVI\",sep=\" \")\n",
        "print(\"age of anil is\",26,\"and age of subhas is\",40, sep=\"\\n\")"
      ],
      "execution_count": null,
      "outputs": [
        {
          "output_type": "stream",
          "name": "stdout",
          "text": [
            "seperator is used to seperate two values**it specify how to seperate two strings/values\n",
            "string 1*\t*string 2\n",
            "string 1\n",
            "\n",
            "string 2\n",
            "string 1---string 2\n",
            "value=56\n",
            "hellow VAISHNAVI\n",
            "age of anil is\n",
            "26\n",
            "and age of subhas is\n",
            "40\n"
          ]
        }
      ]
    },
    {
      "cell_type": "code",
      "metadata": {
        "colab": {
          "base_uri": "https://localhost:8080/"
        },
        "id": "EN2ZRHfDvB2O",
        "outputId": "00967f08-3c7d-47f0-83df-3bf9132aef19"
      },
      "source": [
        "# 3. end parameter by default=\\n\n",
        "print(\"python is easy\",end=\" isn't it ?\")\n",
        "print(\"\\nend parameter \",end=\"&&\")\n"
      ],
      "execution_count": null,
      "outputs": [
        {
          "output_type": "stream",
          "name": "stdout",
          "text": [
            "python is easy isn't it ?\n",
            "end parameter &&"
          ]
        }
      ]
    },
    {
      "cell_type": "code",
      "metadata": {
        "colab": {
          "base_uri": "https://localhost:8080/",
          "height": 35
        },
        "id": "dsC4eubbwkAm",
        "outputId": "b2234394-98a9-45fd-b2f8-d28944c8890a"
      },
      "source": [
        "# 4. file parameter\n",
        "import io\n",
        "d_file=io.StringIO()\n",
        "print(\"hellow......in d_file\",file=d_file)\n",
        "d_file.getvalue()"
      ],
      "execution_count": null,
      "outputs": [
        {
          "output_type": "execute_result",
          "data": {
            "application/vnd.google.colaboratory.intrinsic+json": {
              "type": "string"
            },
            "text/plain": [
              "'hellow......in d_file\\n'"
            ]
          },
          "metadata": {},
          "execution_count": 32
        }
      ]
    },
    {
      "cell_type": "code",
      "metadata": {
        "colab": {
          "base_uri": "https://localhost:8080/"
        },
        "id": "Zl7oANtSxQQz",
        "outputId": "0b92bed7-486f-4704-b360-ad1f1771f141"
      },
      "source": [
        "# seperator & end \n",
        "x=23\n",
        "print(\"x=\",20,sep=\"555\",end=\"***\")"
      ],
      "execution_count": null,
      "outputs": [
        {
          "output_type": "stream",
          "name": "stdout",
          "text": [
            "x=55520***"
          ]
        }
      ]
    },
    {
      "cell_type": "code",
      "metadata": {
        "id": "jTmUBX27xtWH"
      },
      "source": [
        "import io\n",
        "file_ref=open('file1.txt','w')\n",
        "print(\"created & opened file having name file1 in pwd \",file=file_ref)\n",
        "file_ref.close()"
      ],
      "execution_count": 40,
      "outputs": []
    },
    {
      "cell_type": "code",
      "metadata": {
        "colab": {
          "base_uri": "https://localhost:8080/"
        },
        "id": "oj8H_cfQ1xhn",
        "outputId": "f6bdba64-d842-457d-8cb6-b137e8dfd37d"
      },
      "source": [
        "#printing methods\n",
        "#7 How to print value as well as message on the output screen ? \n",
        "radius = float(input(\"Enter the radius of Circle:\"))\n",
        "print(\"Radius of Circle is \",radius)\n",
        "print(\"Radius of circle is {}\".format(radius))\n",
        "height = float(input(\"Enter the height of Cylender:\"))\n",
        "print(\"Height of Cylender is \",height)\n",
        "print(\"Height of Cylender is {}\".format(height))\n",
        "\n",
        "print(\"Radius of Circle is \",radius, \"Height of Cylender is \",height)"
      ],
      "execution_count": 41,
      "outputs": [
        {
          "output_type": "stream",
          "name": "stdout",
          "text": [
            "Enter the radius of Circle:5.6\n",
            "Radius of Circle is  5.6\n",
            "Radius of circle is 5.6\n",
            "Enter the height of Cylender:7.0\n",
            "Height of Cylender is  7.0\n",
            "Height of Cylender is 7.0\n",
            "Radius of Circle is  5.6 Height of Cylender is  7.0\n"
          ]
        }
      ]
    }
  ]
}