{
  "nbformat": 4,
  "nbformat_minor": 0,
  "metadata": {
    "colab": {
      "name": "type-casting.ipynb",
      "provenance": [],
      "collapsed_sections": []
    },
    "kernelspec": {
      "name": "python3",
      "display_name": "Python 3"
    },
    "language_info": {
      "name": "python"
    }
  },
  "cells": [
    {
      "cell_type": "code",
      "metadata": {
        "id": "oeajdXj8RKI0"
      },
      "source": [
        ""
      ],
      "execution_count": null,
      "outputs": []
    },
    {
      "cell_type": "markdown",
      "metadata": {
        "id": "xHjpKW54RM3H"
      },
      "source": [
        "<h1>Type casting </h1>\n",
        "<ul>\n",
        "<li>int()</li>\n",
        "<li>float()</li>\n",
        "<li>str()</li>\n",
        "<li>bool()</li>\n",
        "</ul>"
      ]
    },
    {
      "cell_type": "code",
      "metadata": {
        "colab": {
          "base_uri": "https://localhost:8080/"
        },
        "id": "WYgp-78hRiDs",
        "outputId": "cc037969-fe87-4873-dd47-a9d40bf4b784"
      },
      "source": [
        "a=int(9.0)  #float to int\n",
        "print(a)\n",
        "b=float(45)   # int to float\n",
        "print(b)\n",
        "c=str(976)   #int to sttring\n",
        "print(c)\n",
        "d=bool(34)    #int to boolean\n",
        "print(d)\n"
      ],
      "execution_count": 19,
      "outputs": [
        {
          "output_type": "stream",
          "name": "stdout",
          "text": [
            "9\n",
            "45.0\n",
            "976\n",
            "True\n"
          ]
        }
      ]
    }
  ]
}