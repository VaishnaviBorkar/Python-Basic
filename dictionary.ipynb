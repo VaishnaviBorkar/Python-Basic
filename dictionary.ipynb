{
  "nbformat": 4,
  "nbformat_minor": 0,
  "metadata": {
    "colab": {
      "name": "dictionary.ipynb",
      "provenance": [],
      "collapsed_sections": []
    },
    "kernelspec": {
      "name": "python3",
      "display_name": "Python 3"
    },
    "language_info": {
      "name": "python"
    }
  },
  "cells": [
    {
      "cell_type": "code",
      "metadata": {
        "colab": {
          "base_uri": "https://localhost:8080/"
        },
        "id": "wGNUM-_Ung0h",
        "outputId": "c58fe5fe-aba9-42c6-8b6c-7a6ac0352ad5"
      },
      "source": [
        "# create empty dictionary\n",
        "x=dict()\n",
        "print(type(x),x)\n",
        "D = {}\n",
        "print(type(D))"
      ],
      "execution_count": 2,
      "outputs": [
        {
          "output_type": "stream",
          "name": "stdout",
          "text": [
            "<class 'dict'> {}\n",
            "<class 'dict'>\n"
          ]
        }
      ]
    },
    {
      "cell_type": "code",
      "metadata": {
        "colab": {
          "base_uri": "https://localhost:8080/"
        },
        "id": "5h8BISd9o2bP",
        "outputId": "525f6f3f-9997-481b-c705-2dcf1f825dfe"
      },
      "source": [
        "# initialize elements to dictionary\n",
        "x={1:'vaishnavi',2:56,3:'borkar'}\n",
        "y={'a':5,'b':8,'c':4,'d':9}\n",
        "print(x,type(x))\n",
        "print(y,type(y))"
      ],
      "execution_count": 6,
      "outputs": [
        {
          "output_type": "stream",
          "name": "stdout",
          "text": [
            "{1: 'vaishnavi', 2: 56, 3: 'borkar'} <class 'dict'>\n",
            "{'a': 5, 'b': 8, 'c': 4, 'd': 9} <class 'dict'>\n"
          ]
        }
      ]
    },
    {
      "cell_type": "code",
      "metadata": {
        "colab": {
          "base_uri": "https://localhost:8080/"
        },
        "id": "ajWgHYkwpmdN",
        "outputId": "7b706c04-08bf-4b85-c0d7-92b5daf2fae8"
      },
      "source": [
        "# accesing the values of dictionary with key value\n",
        "front_end={1:'html',2:'css',3:'js'}\n",
        "print(front_end[2])\n",
        "print(front_end[1])"
      ],
      "execution_count": 8,
      "outputs": [
        {
          "output_type": "stream",
          "name": "stdout",
          "text": [
            "css\n",
            "html\n"
          ]
        }
      ]
    },
    {
      "cell_type": "code",
      "metadata": {
        "colab": {
          "base_uri": "https://localhost:8080/"
        },
        "id": "3df2vTtds3FL",
        "outputId": "16255aef-8d24-4db8-965c-143fb2d1d38b"
      },
      "source": [
        "#accessing the elements with get() method\n",
        "y=front_end.get(2)\n",
        "print(y)"
      ],
      "execution_count": 14,
      "outputs": [
        {
          "output_type": "stream",
          "name": "stdout",
          "text": [
            "css\n"
          ]
        }
      ]
    },
    {
      "cell_type": "code",
      "metadata": {
        "colab": {
          "base_uri": "https://localhost:8080/"
        },
        "id": "lE3l0ouXqsMY",
        "outputId": "5d74753b-daf8-4a63-ba54-b1aa472d4322"
      },
      "source": [
        "# list in dictionary & len()\n",
        "skills={1:'html',2:'css',3:'js',4:['java','c','python']}\n",
        "print(skills)\n",
        "#access python\n",
        "print(skills[4][2])\n",
        "print(len(skills))"
      ],
      "execution_count": 13,
      "outputs": [
        {
          "output_type": "stream",
          "name": "stdout",
          "text": [
            "{1: 'html', 2: 'css', 3: 'js', 4: ['java', 'c', 'python']}\n",
            "python\n",
            "4\n"
          ]
        }
      ]
    },
    {
      "cell_type": "code",
      "metadata": {
        "colab": {
          "base_uri": "https://localhost:8080/"
        },
        "id": "PjH7LYyDrlj0",
        "outputId": "64e3b0db-0d21-4fd0-890f-02527f35a09a"
      },
      "source": [
        "#tuple, list, set inside dictionary --allow--yes\n",
        "p={'A':12,'B':56,'C':(78,90),'D':{90,98,76}}\n",
        "print(p)"
      ],
      "execution_count": 12,
      "outputs": [
        {
          "output_type": "stream",
          "name": "stdout",
          "text": [
            "{'A': 12, 'B': 56, 'C': (78, 90), 'D': {90, 76, 98}}\n"
          ]
        }
      ]
    },
    {
      "cell_type": "code",
      "metadata": {
        "colab": {
          "base_uri": "https://localhost:8080/"
        },
        "id": "yD2RBUUwsKK1",
        "outputId": "341f4970-0f2c-4e0a-d4d5-941529b26f6f"
      },
      "source": [
        "# Example 10 List is converted into dictionary by using dict()\n",
        "# sequece having each item as pair\n",
        "P = dict([(1,'apple'),(2,'ball')])\n",
        "print(P)\n",
        "print(type(P))"
      ],
      "execution_count": 15,
      "outputs": [
        {
          "output_type": "stream",
          "name": "stdout",
          "text": [
            "{1: 'apple', 2: 'ball'}\n",
            "<class 'dict'>\n"
          ]
        }
      ]
    },
    {
      "cell_type": "code",
      "metadata": {
        "colab": {
          "base_uri": "https://localhost:8080/"
        },
        "id": "h7yU5Dh2u4kB",
        "outputId": "b68246d5-286c-42cb-f77c-cfc1f7d6dff5"
      },
      "source": [
        "p=dict([['yellow','orange']])\n",
        "print(p)\n",
        "#p=dict(['yellow','orange']) -- throw an error"
      ],
      "execution_count": 17,
      "outputs": [
        {
          "output_type": "stream",
          "name": "stdout",
          "text": [
            "{'yellow': 'orange'}\n"
          ]
        }
      ]
    },
    {
      "cell_type": "code",
      "metadata": {
        "colab": {
          "base_uri": "https://localhost:8080/"
        },
        "id": "E-auM6A0v00Q",
        "outputId": "bc7dd297-eea6-41da-cade-257c41163df5"
      },
      "source": [
        "# update the dictionary value using key\n",
        "x={1:34,2:90,3:45}\n",
        "print(x)\n",
        "x[2]=4567888\n",
        "print(x)"
      ],
      "execution_count": 18,
      "outputs": [
        {
          "output_type": "stream",
          "name": "stdout",
          "text": [
            "{1: 34, 2: 90, 3: 45}\n",
            "{1: 34, 2: 4567888, 3: 45}\n"
          ]
        }
      ]
    },
    {
      "cell_type": "code",
      "metadata": {
        "colab": {
          "base_uri": "https://localhost:8080/"
        },
        "id": "iM9bgCHEwgkC",
        "outputId": "b38f9fd6-b4b8-4eba-885b-578a0edd2d5a"
      },
      "source": [
        "# pop /delete one element from dictionary\n",
        "print(x.popitem())\n",
        "print(x)\n",
        "# last element deleted --in stack insertion &  deletion happens from top of stack"
      ],
      "execution_count": 19,
      "outputs": [
        {
          "output_type": "stream",
          "name": "stdout",
          "text": [
            "(3, 45)\n",
            "{1: 34, 2: 4567888}\n"
          ]
        }
      ]
    }
  ]
}