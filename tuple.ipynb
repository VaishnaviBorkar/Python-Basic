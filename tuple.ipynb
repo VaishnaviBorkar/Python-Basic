{
  "nbformat": 4,
  "nbformat_minor": 0,
  "metadata": {
    "colab": {
      "name": "tuple.ipynb",
      "provenance": [],
      "collapsed_sections": []
    },
    "kernelspec": {
      "name": "python3",
      "display_name": "Python 3"
    },
    "language_info": {
      "name": "python"
    }
  },
  "cells": [
    {
      "cell_type": "code",
      "metadata": {
        "colab": {
          "base_uri": "https://localhost:8080/"
        },
        "id": "Gscp9807fA0U",
        "outputId": "aa6b3b93-c4b5-4a49-e58a-cbaaf4890573"
      },
      "source": [
        "#create empty tuple\n",
        "x=()\n",
        "print(type(x))"
      ],
      "execution_count": 1,
      "outputs": [
        {
          "output_type": "stream",
          "name": "stdout",
          "text": [
            "<class 'tuple'>\n"
          ]
        }
      ]
    },
    {
      "cell_type": "code",
      "metadata": {
        "colab": {
          "base_uri": "https://localhost:8080/"
        },
        "id": "xPFaGiqrfMx-",
        "outputId": "c83bc6d4-b19a-49a9-fd25-9898a60d4142"
      },
      "source": [
        "#initialize element in tuple\n",
        "x=(\"vaishnavi\",90,\"radha\",[26,89,10])\n",
        "print(x)"
      ],
      "execution_count": 2,
      "outputs": [
        {
          "output_type": "stream",
          "name": "stdout",
          "text": [
            "('vaishnavi', 90, 'radha', [26, 89, 10])\n"
          ]
        }
      ]
    },
    {
      "cell_type": "code",
      "metadata": {
        "colab": {
          "base_uri": "https://localhost:8080/"
        },
        "id": "ImeK1b9DfiHT",
        "outputId": "db64fa46-1f32-4b7f-f1f7-9f1177d64321"
      },
      "source": [
        "# we cant crete tuple with single element\n",
        "x=(\"vaishnavi\")\n",
        "print(type(x))\n",
        "y=(\"vaishnavi\",)\n",
        "print(type(y))\n",
        "# we can crete list with singe element\n",
        "z=[\"rita\"]\n",
        "print(type(z))"
      ],
      "execution_count": 11,
      "outputs": [
        {
          "output_type": "stream",
          "name": "stdout",
          "text": [
            "<class 'str'>\n",
            "<class 'tuple'>\n",
            "<class 'list'>\n"
          ]
        }
      ]
    },
    {
      "cell_type": "code",
      "metadata": {
        "colab": {
          "base_uri": "https://localhost:8080/"
        },
        "id": "LysnElwahHwh",
        "outputId": "4ae2193f-685e-4454-d31e-d06cd80ef992"
      },
      "source": [
        "#collection of tuples in a tuple\n",
        "p=(\"mango\",\"orange\",\"pineaaple\")\n",
        "q=(\"lemon\",\"apple\",\"grapes\")\n",
        "r=(23,67,90)\n",
        "s=(p,q,r)\n",
        "print(s)"
      ],
      "execution_count": 12,
      "outputs": [
        {
          "output_type": "stream",
          "name": "stdout",
          "text": [
            "(('mango', 'orange', 'pineaaple'), ('lemon', 'apple', 'grapes'), (23, 67, 90))\n"
          ]
        }
      ]
    },
    {
      "cell_type": "code",
      "metadata": {
        "colab": {
          "base_uri": "https://localhost:8080/"
        },
        "id": "j12-pCL1h-XL",
        "outputId": "10beca4e-75fc-47f8-b0f7-cbe29ea5943b"
      },
      "source": [
        "#colection of lists in a tuple\n",
        "a=[67,89,102,67]\n",
        "b=[\"A\",\"B\"]\n",
        "c=(a,b)\n",
        "print(c)"
      ],
      "execution_count": 13,
      "outputs": [
        {
          "output_type": "stream",
          "name": "stdout",
          "text": [
            "([67, 89, 102, 67], ['A', 'B'])\n"
          ]
        }
      ]
    },
    {
      "cell_type": "code",
      "metadata": {
        "colab": {
          "base_uri": "https://localhost:8080/",
          "height": 235
        },
        "id": "-phIbOh1iYw9",
        "outputId": "260e2000-bcf5-4bd4-99d5-aa62384a6d64"
      },
      "source": [
        "# is tuple immutable\n",
        "a=(\"books\",\"notebooks\",[2,96,34])\n",
        "print(a)\n",
        "a.apend(\"mobile\")   #tuple is immutable....\n",
        "print(a)"
      ],
      "execution_count": 17,
      "outputs": [
        {
          "output_type": "stream",
          "name": "stdout",
          "text": [
            "('books', 'notebooks', [2, 96, 34])\n"
          ]
        },
        {
          "output_type": "error",
          "ename": "AttributeError",
          "evalue": "ignored",
          "traceback": [
            "\u001b[0;31m---------------------------------------------------------------------------\u001b[0m",
            "\u001b[0;31mAttributeError\u001b[0m                            Traceback (most recent call last)",
            "\u001b[0;32m<ipython-input-17-e3a0082db34d>\u001b[0m in \u001b[0;36m<module>\u001b[0;34m()\u001b[0m\n\u001b[1;32m      2\u001b[0m \u001b[0ma\u001b[0m\u001b[0;34m=\u001b[0m\u001b[0;34m(\u001b[0m\u001b[0;34m\"books\"\u001b[0m\u001b[0;34m,\u001b[0m\u001b[0;34m\"notebooks\"\u001b[0m\u001b[0;34m,\u001b[0m\u001b[0;34m[\u001b[0m\u001b[0;36m2\u001b[0m\u001b[0;34m,\u001b[0m\u001b[0;36m96\u001b[0m\u001b[0;34m,\u001b[0m\u001b[0;36m34\u001b[0m\u001b[0;34m]\u001b[0m\u001b[0;34m)\u001b[0m\u001b[0;34m\u001b[0m\u001b[0;34m\u001b[0m\u001b[0m\n\u001b[1;32m      3\u001b[0m \u001b[0mprint\u001b[0m\u001b[0;34m(\u001b[0m\u001b[0ma\u001b[0m\u001b[0;34m)\u001b[0m\u001b[0;34m\u001b[0m\u001b[0;34m\u001b[0m\u001b[0m\n\u001b[0;32m----> 4\u001b[0;31m \u001b[0ma\u001b[0m\u001b[0;34m.\u001b[0m\u001b[0mapend\u001b[0m\u001b[0;34m(\u001b[0m\u001b[0;34m\"mobile\"\u001b[0m\u001b[0;34m)\u001b[0m\u001b[0;34m\u001b[0m\u001b[0;34m\u001b[0m\u001b[0m\n\u001b[0m\u001b[1;32m      5\u001b[0m \u001b[0mprint\u001b[0m\u001b[0;34m(\u001b[0m\u001b[0ma\u001b[0m\u001b[0;34m)\u001b[0m\u001b[0;34m\u001b[0m\u001b[0;34m\u001b[0m\u001b[0m\n",
            "\u001b[0;31mAttributeError\u001b[0m: 'tuple' object has no attribute 'apend'"
          ]
        }
      ]
    },
    {
      "cell_type": "code",
      "metadata": {
        "colab": {
          "base_uri": "https://localhost:8080/"
        },
        "id": "jrcTmUEFjX9z",
        "outputId": "aef3d09e-8fb0-477e-981e-68fcb9632074"
      },
      "source": [
        "#len function uses\n",
        "init = ()\n",
        "print (init.__len__())\n",
        "print(len(init))"
      ],
      "execution_count": 24,
      "outputs": [
        {
          "output_type": "stream",
          "name": "stdout",
          "text": [
            "0\n",
            "0\n"
          ]
        }
      ]
    },
    {
      "cell_type": "code",
      "metadata": {
        "colab": {
          "base_uri": "https://localhost:8080/"
        },
        "id": "57NakrgYmVkc",
        "outputId": "8a47f037-5290-4e5a-cc8b-5e6a9193d21b"
      },
      "source": [
        "#tuple without paranthesis (  )\n",
        "x=\"vaishnavi\",6,9\n",
        "print(type(x))\n",
        "print(x)"
      ],
      "execution_count": 28,
      "outputs": [
        {
          "output_type": "stream",
          "name": "stdout",
          "text": [
            "<class 'tuple'>\n",
            "('vaishnavi', 6, 9)\n"
          ]
        }
      ]
    }
  ]
}