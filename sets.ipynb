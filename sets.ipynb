{
  "nbformat": 4,
  "nbformat_minor": 0,
  "metadata": {
    "colab": {
      "name": "sets.ipynb",
      "provenance": [],
      "collapsed_sections": []
    },
    "kernelspec": {
      "name": "python3",
      "display_name": "Python 3"
    },
    "language_info": {
      "name": "python"
    }
  },
  "cells": [
    {
      "cell_type": "markdown",
      "metadata": {
        "id": "-AIXXFH6jyuA"
      },
      "source": [
        "<h2>Contents for set --> Unordered collection of elements</h2>\n",
        "<ol>\n",
        " <li>Empty set</li>\n",
        " <li>Initialize set</li>\n",
        " <li>set with one element</li>\n",
        " <li>set of tuple</li>\n",
        " <li>set of list--immutable dt (not possible)</li>\n",
        " <li>dublicate set elements</li>\n",
        " <li>set() for conversion</li>\n",
        " <ul>\n",
        " <li>list to set</li>\n",
        " <li>tuple to set</li>\n",
        " </ul>\n",
        " <li>lent() for set elements</li>\n",
        "</ol>\n"
      ]
    },
    {
      "cell_type": "code",
      "metadata": {
        "colab": {
          "base_uri": "https://localhost:8080/"
        },
        "id": "hMP2ea7SbakY",
        "outputId": "e0627f37-8544-43e3-b51d-0dca7e917bec"
      },
      "source": [
        "# create an empty set \n",
        "x=set()\n",
        "print(x)\n",
        "print(type(x))"
      ],
      "execution_count": null,
      "outputs": [
        {
          "output_type": "stream",
          "name": "stdout",
          "text": [
            "set()\n",
            "<class 'set'>\n"
          ]
        }
      ]
    },
    {
      "cell_type": "code",
      "metadata": {
        "colab": {
          "base_uri": "https://localhost:8080/"
        },
        "id": "LuYU21uTbm7C",
        "outputId": "4ed1d566-6f1c-41f8-ba98-e02a8aed3bb3"
      },
      "source": [
        "# initialize elements to the set \n",
        "x={'A','B','C','D'}\n",
        "print(x,type(x))"
      ],
      "execution_count": null,
      "outputs": [
        {
          "output_type": "stream",
          "name": "stdout",
          "text": [
            "{'C', 'D', 'B', 'A'} <class 'set'>\n"
          ]
        }
      ]
    },
    {
      "cell_type": "code",
      "metadata": {
        "colab": {
          "base_uri": "https://localhost:8080/"
        },
        "id": "tQSGpeBBc1gE",
        "outputId": "9ea08e6a-d79b-4c79-ce28-bf69fb3e7b24"
      },
      "source": [
        "P = {1.0,\"Bhushan\",(1,2,3)}\n",
        "print(P)\n"
      ],
      "execution_count": null,
      "outputs": [
        {
          "output_type": "stream",
          "name": "stdout",
          "text": [
            "{1.0, (1, 2, 3), 'Bhushan'}\n"
          ]
        }
      ]
    },
    {
      "cell_type": "code",
      "metadata": {
        "colab": {
          "base_uri": "https://localhost:8080/"
        },
        "id": "g1y7cvnzdoBC",
        "outputId": "ab127146-0d1a-4639-de8f-20f290445974"
      },
      "source": [
        "# set of one element --yes can create\n",
        "x={\"vaishnavi Borkar\"}\n",
        "print(x,type(x))"
      ],
      "execution_count": null,
      "outputs": [
        {
          "output_type": "stream",
          "name": "stdout",
          "text": [
            "{'vaishnavi Borkar'} <class 'set'>\n"
          ]
        }
      ]
    },
    {
      "cell_type": "code",
      "metadata": {
        "colab": {
          "base_uri": "https://localhost:8080/"
        },
        "id": "nEkZQAzPc91p",
        "outputId": "d7883322-33d5-403a-e4a7-b6c487604b4d"
      },
      "source": [
        "# set of tuples\n",
        "x={(45,78,986),('max','joy','nick')}\n",
        "print(x)"
      ],
      "execution_count": null,
      "outputs": [
        {
          "output_type": "stream",
          "name": "stdout",
          "text": [
            "{(45, 78, 986), ('max', 'joy', 'nick')}\n"
          ]
        }
      ]
    },
    {
      "cell_type": "code",
      "metadata": {
        "colab": {
          "base_uri": "https://localhost:8080/",
          "height": 200
        },
        "id": "PQgAlnKjdQ_p",
        "outputId": "5184bed4-8bae-4e1c-9db1-894c51642b8d"
      },
      "source": [
        "#set of lists---list is immutable hence it can't be an element of set i.e mutable\n",
        "y={[56,89,65],'hellow','world'}\n",
        "print(y)"
      ],
      "execution_count": null,
      "outputs": [
        {
          "output_type": "error",
          "ename": "TypeError",
          "evalue": "ignored",
          "traceback": [
            "\u001b[0;31m---------------------------------------------------------------------------\u001b[0m",
            "\u001b[0;31mTypeError\u001b[0m                                 Traceback (most recent call last)",
            "\u001b[0;32m<ipython-input-16-822f29a31535>\u001b[0m in \u001b[0;36m<module>\u001b[0;34m()\u001b[0m\n\u001b[1;32m      1\u001b[0m \u001b[0;31m#set of lists\u001b[0m\u001b[0;34m\u001b[0m\u001b[0;34m\u001b[0m\u001b[0;34m\u001b[0m\u001b[0m\n\u001b[0;32m----> 2\u001b[0;31m \u001b[0my\u001b[0m\u001b[0;34m=\u001b[0m\u001b[0;34m{\u001b[0m\u001b[0;34m[\u001b[0m\u001b[0;36m56\u001b[0m\u001b[0;34m,\u001b[0m\u001b[0;36m89\u001b[0m\u001b[0;34m,\u001b[0m\u001b[0;36m65\u001b[0m\u001b[0;34m]\u001b[0m\u001b[0;34m,\u001b[0m\u001b[0;34m'hellow'\u001b[0m\u001b[0;34m,\u001b[0m\u001b[0;34m'world'\u001b[0m\u001b[0;34m}\u001b[0m\u001b[0;34m\u001b[0m\u001b[0;34m\u001b[0m\u001b[0m\n\u001b[0m\u001b[1;32m      3\u001b[0m \u001b[0mprint\u001b[0m\u001b[0;34m(\u001b[0m\u001b[0my\u001b[0m\u001b[0;34m)\u001b[0m\u001b[0;34m\u001b[0m\u001b[0;34m\u001b[0m\u001b[0m\n",
            "\u001b[0;31mTypeError\u001b[0m: unhashable type: 'list'"
          ]
        }
      ]
    },
    {
      "cell_type": "code",
      "metadata": {
        "colab": {
          "base_uri": "https://localhost:8080/"
        },
        "id": "hUc6sf11d347",
        "outputId": "9a6f67a1-07ad-4563-d912-f9c72baa5f87"
      },
      "source": [
        "# dublicate set elements --\n",
        "x={1,2,3,4,5,1}  #it will take it once\n",
        "print(x)\n",
        "# dublicate in lists--allow\n",
        "y=[1,2,3,4,5,1] \n",
        "print(y)\n",
        "# in tuple---allow\n",
        "y=(1,2,3,4,5,1)\n",
        "print(y)"
      ],
      "execution_count": null,
      "outputs": [
        {
          "output_type": "stream",
          "name": "stdout",
          "text": [
            "{1, 2, 3, 4, 5}\n",
            "[1, 2, 3, 4, 5, 1]\n",
            "(1, 2, 3, 4, 5, 1)\n"
          ]
        }
      ]
    },
    {
      "cell_type": "code",
      "metadata": {
        "colab": {
          "base_uri": "https://localhost:8080/"
        },
        "id": "JyQ-c04WeuVQ",
        "outputId": "1f59fcc0-14a5-4eb9-97a8-cf938ae8ad97"
      },
      "source": [
        "#set()-->convert any other data type into set\n",
        "# 1. list to set\n",
        "x=set(['pink','yellow','red'])\n",
        "print(x,type(x))\n",
        "# ex 2\n",
        "y=[67,98,45,90]  #LIST\n",
        "Y=set(y)         #CASTING LIST 2 SET\n",
        "print(Y,type(Y))"
      ],
      "execution_count": null,
      "outputs": [
        {
          "output_type": "stream",
          "name": "stdout",
          "text": [
            "{'pink', 'yellow', 'red'} <class 'set'>\n",
            "{90, 98, 67, 45} <class 'set'>\n"
          ]
        }
      ]
    },
    {
      "cell_type": "code",
      "metadata": {
        "colab": {
          "base_uri": "https://localhost:8080/"
        },
        "id": "McFt2q2MfxtQ",
        "outputId": "77fae10b-25cf-4c94-ce43-e83d62e31448"
      },
      "source": [
        "#2 . TUPLE TO SET\n",
        "x=('hellow','world')\n",
        "print(x,type(x))\n",
        "y=set(x)\n",
        "print(\"conversion\",y,type(y))"
      ],
      "execution_count": null,
      "outputs": [
        {
          "output_type": "stream",
          "name": "stdout",
          "text": [
            "('hellow', 'world') <class 'tuple'>\n",
            "conversion {'hellow', 'world'} <class 'set'>\n"
          ]
        }
      ]
    },
    {
      "cell_type": "code",
      "metadata": {
        "colab": {
          "base_uri": "https://localhost:8080/"
        },
        "id": "m5j-fkk9eSCe",
        "outputId": "f63f79be-2d5a-449e-b504-302285d1c281"
      },
      "source": [
        "# length of set\n",
        "set1={'apple','orange',(23,89)}\n",
        "print(len(set1))\n",
        "x=set1.__len__()\n",
        "print(x)"
      ],
      "execution_count": null,
      "outputs": [
        {
          "output_type": "stream",
          "name": "stdout",
          "text": [
            "3\n",
            "3\n"
          ]
        }
      ]
    }
  ]
}