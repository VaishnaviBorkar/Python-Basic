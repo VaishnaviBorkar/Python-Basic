{
  "nbformat": 4,
  "nbformat_minor": 0,
  "metadata": {
    "colab": {
      "name": "placeholder.ipynb",
      "provenance": [],
      "collapsed_sections": []
    },
    "kernelspec": {
      "name": "python3",
      "display_name": "Python 3"
    },
    "language_info": {
      "name": "python"
    }
  },
  "cells": [
    {
      "cell_type": "code",
      "metadata": {
        "colab": {
          "base_uri": "https://localhost:8080/"
        },
        "id": "vkbiVdRDU54e",
        "outputId": "068f36de-252f-4bb8-a75e-2433565d1f27"
      },
      "source": [
        "age,name=21,\"vaishnavi\"\n",
        "print(\"hellow my name is\",name,\"and i am\",age,\"years old\")"
      ],
      "execution_count": null,
      "outputs": [
        {
          "output_type": "stream",
          "name": "stdout",
          "text": [
            "hellow my name is vaishnavi and i am 21 years old\n"
          ]
        }
      ]
    },
    {
      "cell_type": "markdown",
      "metadata": {
        "id": "MAqpjdooU9Qx"
      },
      "source": [
        "<h2>placeholder : {} & format() metod</h2>\n"
      ]
    },
    {
      "cell_type": "code",
      "metadata": {
        "colab": {
          "base_uri": "https://localhost:8080/"
        },
        "id": "6_DV1u-vWLaK",
        "outputId": "3524fb59-def8-4a7d-cb52-5efc32a11aab"
      },
      "source": [
        "print(\"hellow my name is {} and i am {} years old\".format(name,age))"
      ],
      "execution_count": null,
      "outputs": [
        {
          "output_type": "stream",
          "name": "stdout",
          "text": [
            "hellow my name is vaishnavi and i am 21 years old\n"
          ]
        }
      ]
    }
  ]
}