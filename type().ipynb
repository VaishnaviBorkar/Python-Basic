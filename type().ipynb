{
  "nbformat": 4,
  "nbformat_minor": 0,
  "metadata": {
    "colab": {
      "name": "Untitled1.ipynb",
      "provenance": [],
      "collapsed_sections": []
    },
    "kernelspec": {
      "name": "python3",
      "display_name": "Python 3"
    },
    "language_info": {
      "name": "python"
    }
  },
  "cells": [
    {
      "cell_type": "markdown",
      "metadata": {
        "id": "1XI81i0GGHWF"
      },
      "source": [
        "<h2>type()</h2>\n",
        "<p>Identify the type of variables</p>\n",
        "<b>Syntax :type(variable_name)\n",
        "type() returns the type of variable"
      ]
    },
    {
      "cell_type": "code",
      "metadata": {
        "colab": {
          "base_uri": "https://localhost:8080/"
        },
        "id": "0kF_8SQzGhFL",
        "outputId": "3d98e9e7-6dc6-472b-a816-6333a007b644"
      },
      "source": [
        "a=20\n",
        "b=20.89\n",
        "c=67999999776655433213444477777777777\n",
        "d='abc'\n",
        "print(type(a))\n",
        "print(type(b))\n",
        "print(type(c))\n",
        "print(type(d))"
      ],
      "execution_count": 4,
      "outputs": [
        {
          "output_type": "stream",
          "name": "stdout",
          "text": [
            "<class 'int'>\n",
            "<class 'float'>\n",
            "<class 'int'>\n",
            "<class 'str'>\n"
          ]
        }
      ]
    }
  ]
}