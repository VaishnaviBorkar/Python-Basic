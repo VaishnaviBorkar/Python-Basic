{
  "nbformat": 4,
  "nbformat_minor": 0,
  "metadata": {
    "colab": {
      "name": "Conditionals.ipynb",
      "provenance": [],
      "collapsed_sections": []
    },
    "kernelspec": {
      "name": "python3",
      "display_name": "Python 3"
    },
    "language_info": {
      "name": "python"
    }
  },
  "cells": [
    {
      "cell_type": "code",
      "metadata": {
        "colab": {
          "base_uri": "https://localhost:8080/"
        },
        "id": "oWWO2mdatwGC",
        "outputId": "906734a1-f20d-4667-ba20-8ecf744e8370"
      },
      "source": [
        "#1. even or odd\n",
        "num=int(input(\"Enter Any Number :\"))\n",
        "if num%2==0:\n",
        "  print(\"Even\")\n",
        "else:\n",
        "  print(\"odd\") "
      ],
      "execution_count": 1,
      "outputs": [
        {
          "output_type": "stream",
          "name": "stdout",
          "text": [
            "Enter Any Number : 12\n",
            "Even\n"
          ]
        }
      ]
    },
    {
      "cell_type": "code",
      "metadata": {
        "colab": {
          "base_uri": "https://localhost:8080/"
        },
        "id": "wC06CVwfuj0f",
        "outputId": "c3ce14e6-941d-4b30-a866-0bfccf701b91"
      },
      "source": [
        "#2. +ve -ve or 0\n",
        "num=int(input(\"Enter Any Number :\"))\n",
        "if num>0:\n",
        "  print(\"Positive\")\n",
        "elif num<0:\n",
        "  print(\"Negative\")\n",
        "else:\n",
        "  print(\"zero\")    "
      ],
      "execution_count": 4,
      "outputs": [
        {
          "output_type": "stream",
          "name": "stdout",
          "text": [
            "Enter Any Number :-9\n",
            "Negative\n"
          ]
        }
      ]
    },
    {
      "cell_type": "code",
      "metadata": {
        "colab": {
          "base_uri": "https://localhost:8080/"
        },
        "id": "gfVwxfmUvGDF",
        "outputId": "07a27f77-d3fb-449b-8d8c-c0dfe326019f"
      },
      "source": [
        "#3. /7 \n",
        "num=int(input(\"Enter Any Number :\"))\n",
        "if num%7==0:\n",
        "  print(\"devide by 7\")\n",
        "else:\n",
        "  print(\"not devided by 7\")  \n",
        "\n"
      ],
      "execution_count": 8,
      "outputs": [
        {
          "output_type": "stream",
          "name": "stdout",
          "text": [
            "Enter Any Number :5\n",
            "not devided by 7\n"
          ]
        }
      ]
    },
    {
      "cell_type": "code",
      "metadata": {
        "colab": {
          "base_uri": "https://localhost:8080/"
        },
        "id": "-DIlrsDPvfWe",
        "outputId": "fcfbb6bc-682e-4fce-d95f-004999a1eaf5"
      },
      "source": [
        "#4.  /7 or 5\n",
        "num=int(input(\"Enter Any Number :\"))\n",
        "if (num%7==0) | (num%5==0):\n",
        "  print(\"devide by 5 or 7\")\n",
        "else:\n",
        "  print(\"not devided by 7\")  \n"
      ],
      "execution_count": 12,
      "outputs": [
        {
          "output_type": "stream",
          "name": "stdout",
          "text": [
            "Enter Any Number :84\n",
            "devide by 5 or 7\n"
          ]
        }
      ]
    },
    {
      "cell_type": "code",
      "metadata": {
        "colab": {
          "base_uri": "https://localhost:8080/"
        },
        "id": "Hdpjg281wA-Z",
        "outputId": "33284574-f5ab-4902-c5aa-cc46ca6ca0ef"
      },
      "source": [
        "#5. /7 or 5\n",
        "num=int(input(\"Enter Any Number :\"))\n",
        "if (num%7==0) & (num%5==0):\n",
        "  print(\"devide by 5 and 7\")\n",
        "else:\n",
        "  print(\"not devided by 7 and 5\") "
      ],
      "execution_count": 13,
      "outputs": [
        {
          "output_type": "stream",
          "name": "stdout",
          "text": [
            "Enter Any Number :84\n",
            "not devided by 7 and 5\n"
          ]
        }
      ]
    },
    {
      "cell_type": "code",
      "metadata": {
        "colab": {
          "base_uri": "https://localhost:8080/"
        },
        "id": "ayiwtNFBwJHs",
        "outputId": "37f82739-7f74-45f6-d900-7367d3f0c060"
      },
      "source": [
        "#6. check year is leap year..\n",
        "year=int(input(\"enter year\"))\n",
        "if (year%4==0) & (year%100!=0):\n",
        "  print(\"leap year\")\n",
        "elif (year%4==0) & (year%100==0) & (year%400==0):\n",
        "  print(\"leap year\")\n",
        "else:\n",
        "  print(\"not leap year\")\n"
      ],
      "execution_count": 17,
      "outputs": [
        {
          "output_type": "stream",
          "name": "stdout",
          "text": [
            "enter year2000\n",
            "leap year\n"
          ]
        }
      ]
    },
    {
      "cell_type": "code",
      "metadata": {
        "colab": {
          "base_uri": "https://localhost:8080/"
        },
        "id": "zNej4ZBQyCtO",
        "outputId": "87ff183f-67bb-4fe1-e481-8ef77b377790"
      },
      "source": [
        "#7. smallest number among 3 numbers\n",
        "x=int(input(\"Enter 1st number\"))\n",
        "y=int(input(\"entter 2nd number\"))\n",
        "z=int(input(\"entter 3rd number\"))\n",
        "if x<y:\n",
        "  if x<z:\n",
        "    print(\"{} is smaller\".format(x))\n",
        "  else:\n",
        "    print(\"{} is smaller\".format(z))\n",
        "else:\n",
        "  if y<z:\n",
        "     print(\"{}  is smaller\".format(y))\n",
        "  else:\n",
        "      print(\"{} is smaller\".format(z))\n"
      ],
      "execution_count": 24,
      "outputs": [
        {
          "output_type": "stream",
          "name": "stdout",
          "text": [
            "Enter 1st number23\n",
            "entter 2nd number60\n",
            "entter 3rd number9\n",
            "9 is smaller\n"
          ]
        }
      ]
    },
    {
      "cell_type": "markdown",
      "metadata": {
        "id": "wMOfCkEQuSrN"
      },
      "source": [
        ""
      ]
    }
  ]
}