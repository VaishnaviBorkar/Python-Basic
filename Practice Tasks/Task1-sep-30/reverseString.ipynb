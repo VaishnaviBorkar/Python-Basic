{
  "nbformat": 4,
  "nbformat_minor": 0,
  "metadata": {
    "colab": {
      "name": "reverseString.ipynb",
      "provenance": [],
      "collapsed_sections": []
    },
    "kernelspec": {
      "name": "python3",
      "display_name": "Python 3"
    },
    "language_info": {
      "name": "python"
    }
  },
  "cells": [
    {
      "cell_type": "code",
      "metadata": {
        "colab": {
          "base_uri": "https://localhost:8080/"
        },
        "id": "357lgJDc5leF",
        "outputId": "f6c08f6d-a4a1-4f78-dc19-115fdcdd1e55"
      },
      "source": [
        "# print string in reverse order using for loop and if statement\n",
        "i=-1\n",
        "str=\"hi tech\"\n",
        "for x in str:\n",
        "  if i>=-7:\n",
        "   print(str[i])\n",
        "  i=i-1 \n",
        "  "
      ],
      "execution_count": 52,
      "outputs": [
        {
          "output_type": "stream",
          "name": "stdout",
          "text": [
            "h\n",
            "c\n",
            "e\n",
            "t\n",
            " \n",
            "i\n",
            "h\n"
          ]
        }
      ]
    },
    {
      "cell_type": "code",
      "metadata": {
        "colab": {
          "base_uri": "https://localhost:8080/"
        },
        "id": "PlPQF75aCAHa",
        "outputId": "e42fc043-78c0-430e-a9be-718760ed852e"
      },
      "source": [
        "# start index end index -1 step backword\n",
        "str=\"hi tech\"\n",
        "rev=\" \"\n",
        "for i in str[::-1]:\n",
        "  print(i)\n"
      ],
      "execution_count": 51,
      "outputs": [
        {
          "output_type": "stream",
          "name": "stdout",
          "text": [
            "h\n",
            "c\n",
            "e\n",
            "t\n",
            " \n",
            "i\n",
            "h\n"
          ]
        }
      ]
    }
  ]
}