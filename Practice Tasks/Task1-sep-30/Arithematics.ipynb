{
  "nbformat": 4,
  "nbformat_minor": 0,
  "metadata": {
    "colab": {
      "name": "Arithematics.ipynb",
      "provenance": [],
      "collapsed_sections": []
    },
    "kernelspec": {
      "name": "python3",
      "display_name": "Python 3"
    },
    "language_info": {
      "name": "python"
    }
  },
  "cells": [
    {
      "cell_type": "code",
      "metadata": {
        "colab": {
          "base_uri": "https://localhost:8080/"
        },
        "id": "nsNQAMiMxjSI",
        "outputId": "1b691ca3-a394-40e1-f95c-6b7a71a09947"
      },
      "source": [
        "#1. find torque two mass are given\n",
        "mass1=67\n",
        "mass2=89\n",
        "torq=(mass1+mass2)/(mass1*mass2)\n",
        "print(torq)"
      ],
      "execution_count": null,
      "outputs": [
        {
          "output_type": "stream",
          "name": "stdout",
          "text": [
            "0.026161328190508135\n"
          ]
        }
      ]
    },
    {
      "cell_type": "code",
      "metadata": {
        "colab": {
          "base_uri": "https://localhost:8080/"
        },
        "id": "G5b-Qmh22lMA",
        "outputId": "a7c9cfca-34dc-4c4b-b482-3813c79f51cb"
      },
      "source": [
        "#2. ferhnite to centigrate\n",
        "#c=5/9*(f-32)\n",
        "f=int(input(\"enter the temperature in ferhenite \"))\n",
        "c=(5/9)*(f-32)\n",
        "print(\"{}f is convertet into {}c\".format(f,c))"
      ],
      "execution_count": null,
      "outputs": [
        {
          "output_type": "stream",
          "name": "stdout",
          "text": [
            "enter the temperature in ferhenite 78\n",
            "78f is convertet into 25.555555555555557c\n"
          ]
        }
      ]
    },
    {
      "cell_type": "code",
      "metadata": {
        "colab": {
          "base_uri": "https://localhost:8080/"
        },
        "id": "Szg3jsHb-J10",
        "outputId": "5d701981-a327-4357-aac5-07b5f5d37b02"
      },
      "source": [
        "#3. Calculate valume of sphere\n",
        "PI=3.14\n",
        "r=int(input(\"Enter radius of Sphere : \"))\n",
        "volume=((4/3)*PI*(r*r*r))\n",
        "print(\"volume of shpere is : \",volume)"
      ],
      "execution_count": null,
      "outputs": [
        {
          "output_type": "stream",
          "name": "stdout",
          "text": [
            "Enter radius of Sphere : 5\n",
            "volume of shpere is :  523.3333333333334\n"
          ]
        }
      ]
    },
    {
      "cell_type": "code",
      "metadata": {
        "colab": {
          "base_uri": "https://localhost:8080/"
        },
        "id": "uRBWzeFQ_8KE",
        "outputId": "27f0ff5e-d197-46d7-8fdb-5596e7f8a8a6"
      },
      "source": [
        "#4 conver km/hr to m/hr 1km=5/18 \n",
        "# 5/8*km/hr=m/s\n",
        "km=int(input(\"Enter Kilometers : \"))\n",
        "meter=(km*5/18)\n",
        "print(\"{} km/hr = {} meters/s \".format(km,meter))"
      ],
      "execution_count": null,
      "outputs": [
        {
          "output_type": "stream",
          "name": "stdout",
          "text": [
            "Enter Kilometers : 200\n",
            "200 km/hr = 55.55555555555556 meters/s \n"
          ]
        }
      ]
    },
    {
      "cell_type": "code",
      "metadata": {
        "colab": {
          "base_uri": "https://localhost:8080/"
        },
        "id": "ef3G43TeBLSa",
        "outputId": "03df2246-b3d1-46f8-cfb8-1d20e3e35b8b"
      },
      "source": [
        "#5.print days month and year\n",
        "day=667\n",
        "y=int(day/365)\n",
        "month=int((day-y*365)/30)\n",
        "days=(day-y*365)\n",
        "print(\"dd=\",days,\"year= \",y,\"mm= \",month)"
      ],
      "execution_count": null,
      "outputs": [
        {
          "output_type": "stream",
          "name": "stdout",
          "text": [
            "dd= 302 year=  1 mm=  10\n"
          ]
        }
      ]
    },
    {
      "cell_type": "code",
      "metadata": {
        "colab": {
          "base_uri": "https://localhost:8080/"
        },
        "id": "sNEUmkKdE6QX",
        "outputId": "5b22dc6e-3c36-4aff-a881-d5bcacb80245"
      },
      "source": [
        "# 6 convert distance cm to inches *0.394\n",
        "distance=int(input(\"enter distance into centimeter : \"))\n",
        "inches=0.394*distance\n",
        "print(\"distance in inches : \",inches)"
      ],
      "execution_count": null,
      "outputs": [
        {
          "output_type": "stream",
          "name": "stdout",
          "text": [
            "enter distance into centimeter : 12\n",
            "distance in inches :  4.728\n"
          ]
        }
      ]
    },
    {
      "cell_type": "code",
      "metadata": {
        "colab": {
          "base_uri": "https://localhost:8080/"
        },
        "id": "n3XGll_-FZLt",
        "outputId": "1a2a2ac5-fbec-4019-9ac1-04d8d9946038"
      },
      "source": [
        "# 7. calculation using power operator e**\n",
        "x=2\n",
        "print(x**2)"
      ],
      "execution_count": null,
      "outputs": [
        {
          "output_type": "stream",
          "name": "stdout",
          "text": [
            "4\n"
          ]
        }
      ]
    },
    {
      "cell_type": "code",
      "metadata": {
        "colab": {
          "base_uri": "https://localhost:8080/"
        },
        "id": "0x3s7-hXFS9w",
        "outputId": "3cc85e51-5da2-4d81-ce94-09e42bfaa48b"
      },
      "source": [
        "# 8. Calculate\n",
        "y=4\n",
        "z=2\n",
        "r=3\n",
        "x=((y**2)+(z**4)+(r**3))/5\n",
        "print(x)"
      ],
      "execution_count": null,
      "outputs": [
        {
          "output_type": "stream",
          "name": "stdout",
          "text": [
            "11.8\n"
          ]
        }
      ]
    },
    {
      "cell_type": "code",
      "metadata": {
        "colab": {
          "base_uri": "https://localhost:8080/"
        },
        "id": "knE6twIHHiP7",
        "outputId": "3b86c197-111d-41cc-db07-d8231e8acb9f"
      },
      "source": [
        "# 9.\n",
        "import math\n",
        "a=56\n",
        "b=34\n",
        "ans=((a**2)+(b**2))/(math.sqrt((a**2)+(a**b)))\n",
        "print(ans)"
      ],
      "execution_count": null,
      "outputs": [
        {
          "output_type": "stream",
          "name": "stdout",
          "text": [
            "8.193382957410681e-27\n"
          ]
        }
      ]
    },
    {
      "cell_type": "code",
      "metadata": {
        "colab": {
          "base_uri": "https://localhost:8080/"
        },
        "id": "PlovpIkJc_6h",
        "outputId": "694c8eec-9702-4363-cfd3-7d060d307387"
      },
      "source": [
        "10.\n",
        "import math\n",
        "a=2.3\n",
        "b=5.6\n",
        "ans=(math.sqrt((a**2)+(b**2))/(math.sqrt((a**2)+(b**2))))\n",
        "print(ans)"
      ],
      "execution_count": 2,
      "outputs": [
        {
          "output_type": "stream",
          "name": "stdout",
          "text": [
            "1.0\n"
          ]
        }
      ]
    },
    {
      "cell_type": "code",
      "metadata": {
        "id": "yrs_7wKOdzU5"
      },
      "source": [
        "# import math\n",
        "# a=3.6\n",
        "# b=6.6\n",
        "# c=45.9\n",
        "# x=((b)+(math.sqrt((b**2)-(4*a*c))))/(2*a)\n",
        "# print(x)"
      ],
      "execution_count": 14,
      "outputs": []
    },
    {
      "cell_type": "code",
      "metadata": {
        "colab": {
          "base_uri": "https://localhost:8080/"
        },
        "id": "j-Byjgp4fW3n",
        "outputId": "84b583ec-c6b7-4fb2-a21b-f240ad642b9d"
      },
      "source": [
        "#11. Display your portfolio\n",
        "\n",
        "portfolio={\n",
        "    'name':\"Vaishnavi Borkar\",\n",
        "    'age':\"21\",\n",
        "    'education':\"bsc\"\n",
        "    }\n",
        "print(\"\\t My name is {}\".format(portfolio['name']))\n",
        "print(\"\\t Age: {}\".format(portfolio['age']),end=\" \")\n",
        "print(\" education: {}\".format(portfolio['education']))\n",
        "\n"
      ],
      "execution_count": 39,
      "outputs": [
        {
          "output_type": "stream",
          "name": "stdout",
          "text": [
            "\t My name is Vaishnavi Borkar\n",
            "\t Age: 21  education: bsc\n"
          ]
        }
      ]
    },
    {
      "cell_type": "code",
      "metadata": {
        "colab": {
          "base_uri": "https://localhost:8080/"
        },
        "id": "6oJIG7MciZK3",
        "outputId": "12d9ed0a-5e6a-4929-9e08-b93558bf93e7"
      },
      "source": [
        "# 12 reverse a 3 digit number\n",
        "no=126\n",
        "rev=0\n",
        "while(no>0):\n",
        "  rev=int((rev*10)+(no%10))\n",
        "  no=int(no/10)   \n",
        "print(rev)"
      ],
      "execution_count": 67,
      "outputs": [
        {
          "output_type": "stream",
          "name": "stdout",
          "text": [
            "621\n"
          ]
        }
      ]
    },
    {
      "cell_type": "code",
      "metadata": {
        "colab": {
          "base_uri": "https://localhost:8080/"
        },
        "id": "82Zc-HWCmSIM",
        "outputId": "e71fb8ed-effc-489c-bb7b-632146e0b4eb"
      },
      "source": [
        "# number is palimdrom or not \n",
        "no=int(input(\"Enter any number :\"))\n",
        "no2=no\n",
        "rev=0\n",
        "while(no>0):\n",
        "  rev=int((rev*10)+(no%10))\n",
        "  no=no//10 \n",
        "if rev==no2:\n",
        "  print('{} is palimdrom number '.format(no2))  \n",
        "else :\n",
        "  print('{} is not palimdrom number '.format(no2))"
      ],
      "execution_count": 81,
      "outputs": [
        {
          "output_type": "stream",
          "name": "stdout",
          "text": [
            "Enter any number :121\n",
            "121 is palimdrom number \n"
          ]
        }
      ]
    }
  ]
}