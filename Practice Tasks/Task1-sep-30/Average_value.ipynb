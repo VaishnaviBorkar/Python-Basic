{
  "nbformat": 4,
  "nbformat_minor": 0,
  "metadata": {
    "colab": {
      "name": "Average_value.ipynb",
      "provenance": [],
      "collapsed_sections": []
    },
    "kernelspec": {
      "name": "python3",
      "display_name": "Python 3"
    },
    "language_info": {
      "name": "python"
    }
  },
  "cells": [
    {
      "cell_type": "code",
      "metadata": {
        "colab": {
          "base_uri": "https://localhost:8080/"
        },
        "id": "1eH4GMvoG7nb",
        "outputId": "2cde0415-eee6-46c7-8c24-ffcb415468e6"
      },
      "source": [
        "# input 2 items weight & no of perchase calculate average value of item\n",
        "item1=float(input(\"Enter weight of item 1:\"))\n",
        "q1=int(input(\"Enter no of perchase of item 2: \"))\n",
        "item2=float(input(\"Enter weight of item 1: \"))\n",
        "q2=int(input(\"Enter no of perchase of item 2: \"))\n",
        "avg=((item1*q1)+(item2*q2))/(q1+q2)\n",
        "print(\"Average values of item is : \",avg)"
      ],
      "execution_count": 7,
      "outputs": [
        {
          "output_type": "stream",
          "name": "stdout",
          "text": [
            "Enter weight of item 1:26.9\n",
            "Enter no of perchase of item 2: 6\n",
            "Enter weight of item 1: 78.3\n",
            "Enter no of perchase of item 2: 2\n",
            "Average values of item is :  39.75\n"
          ]
        }
      ]
    }
  ]
}