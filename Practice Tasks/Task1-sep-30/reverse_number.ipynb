{
  "nbformat": 4,
  "nbformat_minor": 0,
  "metadata": {
    "colab": {
      "name": "reverse_number.ipynb",
      "provenance": [],
      "collapsed_sections": []
    },
    "kernelspec": {
      "name": "python3",
      "display_name": "Python 3"
    },
    "language_info": {
      "name": "python"
    }
  },
  "cells": [
    {
      "cell_type": "code",
      "metadata": {
        "colab": {
          "base_uri": "https://localhost:8080/"
        },
        "id": "myW299FxI8Zu",
        "outputId": "46cf77f9-8493-400e-bc39-fc69f3d42976"
      },
      "source": [
        "# input 4 digit number AND Reverse it\n",
        "#Example 1\n",
        "x=3456\n",
        "rev=0\n",
        "while(x>0):\n",
        "  rev=(rev*10)+(x%10)\n",
        "  x=x//10\n",
        "print(int(rev))"
      ],
      "execution_count": 21,
      "outputs": [
        {
          "output_type": "stream",
          "name": "stdout",
          "text": [
            "6543\n"
          ]
        }
      ]
    },
    {
      "cell_type": "markdown",
      "metadata": {
        "id": "Ce5JNcpxMwsY"
      },
      "source": [
        "if we devide any no by 10 then it return remender will be last number<br/>\n",
        " 3456%10 = 6<br/>\n",
        " rev=6<br/>\n",
        " 2nd time we want last degit of 345 and skip the 6 for that we can devide it by 10 :<br/>\n",
        " x=3456/10=345.6<br/>\n",
        " int(345.6)=345<br/>\n",
        " now go to condition <br/>\n",
        " 345>0 TRUE<br/>\n",
        " X%10 I.e 345%10=5<br/>\n",
        " but now we want to attach this after  6<br/>\n",
        " for that <br/>\n",
        " rev=rev*10+x%10<br/>\n",
        " rev was 6<br/>\n",
        " rev=(6*10)+(345%10)<br/>\n",
        "    =60+5<br/>\n",
        " rev= 65<br/>\n",
        "now we want 4 & skip 5<br/>\n",
        "x//10<br/>\n",
        "345//10 =34 // will skip . decimal places<br/>\n",
        "34>0<br/>\n",
        "rev was 65<br/>\n",
        "rev=(65*10)+(34%10)= 650+4<br/>\n",
        "rev=654<br/>\n",
        "now we want last digit 3<br/>\n",
        "so <br/>\n",
        "x=34<br/>\n",
        "34//10 =3<br/>\n",
        "3>0<br/>\n",
        "rev=654*10+(3%10)<br/>\n",
        "rev= 6540+3<br/>\n",
        "rev=6543<br/>\n",
        "now <br/>\n",
        "x=3<br/>\n",
        "3//10=0.3<br/>\n",
        "x>0<br/>\n",
        "0.0> 0 false end while<br/>\n",
        "print rev =6543<br/>"
      ]
    }
  ]
}