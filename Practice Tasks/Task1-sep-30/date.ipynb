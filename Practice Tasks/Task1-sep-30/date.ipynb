{
  "nbformat": 4,
  "nbformat_minor": 0,
  "metadata": {
    "colab": {
      "name": "date.ipynb",
      "provenance": [],
      "collapsed_sections": []
    },
    "kernelspec": {
      "name": "python3",
      "display_name": "Python 3"
    },
    "language_info": {
      "name": "python"
    }
  },
  "cells": [
    {
      "cell_type": "code",
      "metadata": {
        "colab": {
          "base_uri": "https://localhost:8080/"
        },
        "id": "X68cMgerAJGj",
        "outputId": "783965f5-ed87-4447-b883-9da0bb9328dd"
      },
      "source": [
        "# input days and convert it into date month and year\n",
        "days=int(input(\"Enter the days :\"))\n",
        "year=int(days/365)\n",
        "month=int((days-year*365)/30)\n",
        "day=int((days-year*365-month*30))\n",
        "print(\"Year=\",year,\"month=\",month,\"day=\",day)"
      ],
      "execution_count": 18,
      "outputs": [
        {
          "output_type": "stream",
          "name": "stdout",
          "text": [
            "Enter the days :368\n",
            "Year= 1 month= 0 day= 3\n"
          ]
        }
      ]
    }
  ]
}