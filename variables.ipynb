{
  "nbformat": 4,
  "nbformat_minor": 0,
  "metadata": {
    "colab": {
      "name": "Untitled1.ipynb",
      "provenance": [],
      "collapsed_sections": []
    },
    "kernelspec": {
      "name": "python3",
      "display_name": "Python 3"
    }
  },
  "cells": [
    {
      "cell_type": "code",
      "metadata": {
        "id": "9q0KeA0nr2ra",
        "colab": {
          "base_uri": "https://localhost:8080/"
        },
        "outputId": "81de7655-9c85-4a5d-cc57-40c8cba4bd5a"
      },
      "source": [
        "a=2 # variable a is declare \n",
        "b=4 #variable b is declare\n",
        "print(a+b) # addition\n",
        "c=9.0\n",
        "d='vaishnavi'\n",
        "e=\"string2\"\n",
        "print(c,d,e)\n",
        "# no multi line comment support"
      ],
      "execution_count": 9,
      "outputs": [
        {
          "output_type": "stream",
          "name": "stdout",
          "text": [
            "6\n",
            "9.0 vaishnavi string2\n"
          ]
        }
      ]
    },
    {
      "cell_type": "markdown",
      "metadata": {
        "id": "iJc7cYeh5qUP"
      },
      "source": [
        "<h2>variable declaration and comments</h2>\n",
        "<small>syntax: variable_name=value</small>\n",
        "<p>according to value the type of variable will be specified</p>\n"
      ]
    }
  ]
}