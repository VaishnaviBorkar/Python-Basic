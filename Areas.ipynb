{
  "nbformat": 4,
  "nbformat_minor": 0,
  "metadata": {
    "colab": {
      "name": "Areas.ipynb",
      "provenance": [],
      "collapsed_sections": []
    },
    "kernelspec": {
      "name": "python3",
      "display_name": "Python 3"
    },
    "language_info": {
      "name": "python"
    }
  },
  "cells": [
    {
      "cell_type": "markdown",
      "metadata": {
        "id": "vHAqIriOpK7y"
      },
      "source": [
        "<h2>Area of rectangle </h2>\n",
        "<p>area rectangle = length*breadth</p>"
      ]
    },
    {
      "cell_type": "code",
      "metadata": {
        "colab": {
          "base_uri": "https://localhost:8080/"
        },
        "id": "_p0477BepBIK",
        "outputId": "aeff6141-cfde-4a72-e473-774ccbc1059c"
      },
      "source": [
        "length=float(input(\"Enter length of rectangle :\"))\n",
        "breadth=float(input(\"Enter breath of rectanglr :\"))\n",
        "area=length*breadth\n",
        "print(\"area of rectangle : {}\".format(area))"
      ],
      "execution_count": 7,
      "outputs": [
        {
          "output_type": "stream",
          "name": "stdout",
          "text": [
            "Enter length of rectangle :3.6\n",
            "Enter breath of rectanglr :2.7\n",
            "area of rectangle : 9.72\n"
          ]
        }
      ]
    },
    {
      "cell_type": "markdown",
      "metadata": {
        "id": "jlJKIwuJqr35"
      },
      "source": [
        "<h2>Area of circle </h2>\n",
        "<p>pie*r*r<p>\n",
        "<p>pie=3.14</p>\n"
      ]
    },
    {
      "cell_type": "code",
      "metadata": {
        "colab": {
          "base_uri": "https://localhost:8080/"
        },
        "id": "-MwDDkoiqwmL",
        "outputId": "90259880-0117-4e3c-8b55-6a1ae83f8ac7"
      },
      "source": [
        "radius=float(input(\"enter radius :\"))\n",
        "area=(3.14*radius*radius)\n",
        "print(\"area of circle is :\",area)"
      ],
      "execution_count": 18,
      "outputs": [
        {
          "output_type": "stream",
          "name": "stdout",
          "text": [
            "enter radius :4.5\n",
            "area of circle is : 63.585\n"
          ]
        }
      ]
    },
    {
      "cell_type": "markdown",
      "metadata": {
        "id": "5BtRuLaUsh6i"
      },
      "source": [
        "<h2>Area of Square =side*side</h2>"
      ]
    },
    {
      "cell_type": "code",
      "metadata": {
        "colab": {
          "base_uri": "https://localhost:8080/"
        },
        "id": "T2fNW1Qvsp5C",
        "outputId": "e429bda6-c8b4-4f66-b9de-d4ad0626de9f"
      },
      "source": [
        "side=int(input(\"Enter side of a square :\"))\n",
        "print(\"area of square is :\",(side*side))"
      ],
      "execution_count": 19,
      "outputs": [
        {
          "output_type": "stream",
          "name": "stdout",
          "text": [
            "Enter side of a square :10\n",
            "area of square is : 100\n"
          ]
        }
      ]
    },
    {
      "cell_type": "markdown",
      "metadata": {
        "id": "oM15J6AKs5dq"
      },
      "source": [
        "<h2>Area of cylinder =(2*pie*r*h)+(2*pie*r*r)\n"
      ]
    },
    {
      "cell_type": "code",
      "metadata": {
        "colab": {
          "base_uri": "https://localhost:8080/"
        },
        "id": "KLbgHciDtGNF",
        "outputId": "9cc849b5-44ef-43c6-ade3-816abcc9505f"
      },
      "source": [
        "radius=float(input(\"Enter radius of cylinder :\"))\n",
        "height=float(input(\"Enter height of cylinder :\"))\n",
        "area=(2*3.14*radius*height)+(2*3.14*radius*radius)\n",
        "print(\"area of cylinder =\",area)"
      ],
      "execution_count": 20,
      "outputs": [
        {
          "output_type": "stream",
          "name": "stdout",
          "text": [
            "Enter radius of cylinder :2.6\n",
            "Enter height of cylinder :4.6\n",
            "area of cylinder = 117.56160000000001\n"
          ]
        }
      ]
    }
  ]
}