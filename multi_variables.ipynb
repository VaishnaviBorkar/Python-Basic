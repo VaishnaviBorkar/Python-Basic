{
  "nbformat": 4,
  "nbformat_minor": 0,
  "metadata": {
    "colab": {
      "name": "multi-variables.ipynb",
      "provenance": [],
      "collapsed_sections": []
    },
    "kernelspec": {
      "name": "python3",
      "display_name": "Python 3"
    },
    "language_info": {
      "name": "python"
    }
  },
  "cells": [
    {
      "cell_type": "code",
      "metadata": {
        "colab": {
          "base_uri": "https://localhost:8080/"
        },
        "id": "nOt88lRcUDOB",
        "outputId": "402f005f-4b52-41cb-ab8e-d91594cc68ac"
      },
      "source": [
        "#many values to many variables\n",
        "p,q,r=12,'abc',60.78\n",
        "print(p,q,r)"
      ],
      "execution_count": 3,
      "outputs": [
        {
          "output_type": "stream",
          "name": "stdout",
          "text": [
            "12 abc 60.78\n"
          ]
        }
      ]
    },
    {
      "cell_type": "code",
      "metadata": {
        "colab": {
          "base_uri": "https://localhost:8080/"
        },
        "id": "t2YpOZKLTrG6",
        "outputId": "bde609ad-ad91-4ae4-83fb-a06c4a24b2c5"
      },
      "source": [
        "#swapping in python\n",
        "a=20\n",
        "b=10\n",
        "a,b=b,a\n",
        "print(a,b)"
      ],
      "execution_count": 2,
      "outputs": [
        {
          "output_type": "stream",
          "name": "stdout",
          "text": [
            "10 20\n"
          ]
        }
      ]
    }
  ]
}