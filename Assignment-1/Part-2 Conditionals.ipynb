{
 "cells": [
  {
   "cell_type": "code",
   "execution_count": 2,
   "id": "b8b23bb0",
   "metadata": {},
   "outputs": [
    {
     "name": "stdout",
     "output_type": "stream",
     "text": [
      "Enter the Integer number :4\n",
      "Number is even\n"
     ]
    }
   ],
   "source": [
    "# 15. WAP a python program to check the integer entered by user is even or odd\n",
    "n=int(input(\"Enter the Integer number :\"))\n",
    "if n%2==0:\n",
    "    print(\"Number is even\")\n",
    "else:\n",
    "    print(\"number is odd\")"
   ]
  },
  {
   "cell_type": "code",
   "execution_count": 8,
   "id": "7496b15b",
   "metadata": {},
   "outputs": [
    {
     "name": "stdout",
     "output_type": "stream",
     "text": [
      "largest number is 121\n"
     ]
    }
   ],
   "source": [
    "# 16 WAP to find largest number among 3 numbers using max()\n",
    "a=121\n",
    "b=54\n",
    "c=10\n",
    "large=max(a,b,c)\n",
    "print(\"largest number is\",large)"
   ]
  },
  {
   "cell_type": "code",
   "execution_count": 7,
   "id": "77fa3d7b",
   "metadata": {},
   "outputs": [
    {
     "name": "stdout",
     "output_type": "stream",
     "text": [
      "Enter First number: 56\n",
      "Enter Second number: 34\n",
      "Enter Third number: 79\n",
      "79 is greater\n"
     ]
    }
   ],
   "source": [
    "# 17 WAP to find largest number among 3 numbers using conditional operator\n",
    "n1=int(input(\"Enter First number: \"))\n",
    "n2=int(input(\"Enter Second number: \"))\n",
    "n3=int(input(\"Enter Third number: \"))\n",
    "if n1>n2 and n1>n3:\n",
    "    print(\"{} is greater\".format(n1))\n",
    "elif n2>n1 and n2>n3:\n",
    "    print(\"{} is greater\".format(n2))\n",
    "else:\n",
    "    print(\"{} is greater\".format(n3))"
   ]
  },
  {
   "cell_type": "code",
   "execution_count": 12,
   "id": "4141e603",
   "metadata": {},
   "outputs": [
    {
     "name": "stdout",
     "output_type": "stream",
     "text": [
      "18 is greater\n"
     ]
    }
   ],
   "source": [
    "# 18 WAP to find largest number among 3 numbers using nested if else.\n",
    "a=12\n",
    "b=5\n",
    "c=18\n",
    "if a>b:\n",
    "    if a>c:\n",
    "        print(\"{} is greater\".format(a))\n",
    "    else:\n",
    "         print(\"{} is greater\".format(c))\n",
    "else:\n",
    "    if b>c:\n",
    "         print(\"{} is greater\".format(b))\n",
    "    else:\n",
    "         print(\"{} is greater\".format(c))"
   ]
  },
  {
   "cell_type": "code",
   "execution_count": 14,
   "id": "70a33953",
   "metadata": {},
   "outputs": [
    {
     "name": "stdout",
     "output_type": "stream",
     "text": [
      "Ente year :2021\n",
      "2021 is leap not a year\n"
     ]
    }
   ],
   "source": [
    "# 19. WAP to check leap year using conditional operator\n",
    "year=int(input(\"Ente year :\"))\n",
    "if year%400==0 or year%100!=0 and year%4==0:\n",
    "    print(\"{} is leap year\".format(year))\n",
    "else:\n",
    "     print(\"{} is leap not a year\".format(year))"
   ]
  },
  {
   "cell_type": "code",
   "execution_count": 27,
   "id": "6ba175a1",
   "metadata": {},
   "outputs": [
    {
     "name": "stdout",
     "output_type": "stream",
     "text": [
      "Enter any value 34\n",
      "34 is a not a Alphabet \n"
     ]
    }
   ],
   "source": [
    "# 20. WAP to check alphabet using contional operator\n",
    "# way 1\n",
    "char=input(\"Enter any value \")\n",
    "if char>='A' and char<='Z' or char>='a' and char<='z':\n",
    "    print(\"{} is a Alphabet \".format(char))\n",
    "else:\n",
    "    print(\"{} is a not a Alphabet \".format(char))\n",
    "\n",
    "# we can also do the same using acii code"
   ]
  },
  {
   "cell_type": "code",
   "execution_count": 2,
   "id": "59d92c9c",
   "metadata": {},
   "outputs": [
    {
     "name": "stdout",
     "output_type": "stream",
     "text": [
      "Enter any value J\n",
      "J is a Alphabet \n"
     ]
    }
   ],
   "source": [
    "#  way 2 USING isalpha() method\n",
    "char=input(\"Enter any value \")\n",
    "res=char.isalpha()\n",
    "if res:\n",
    "    print(\"{} is a Alphabet \".format(char))\n",
    "else:\n",
    "     print(\"{} is a not a Alphabet \".format(char))"
   ]
  },
  {
   "cell_type": "code",
   "execution_count": 3,
   "id": "ebb88187",
   "metadata": {},
   "outputs": [
    {
     "name": "stdout",
     "output_type": "stream",
     "text": [
      "Enter any number: -89\n",
      "Negative\n"
     ]
    }
   ],
   "source": [
    "# 21. Python Program to check number is positive, negative or zero.\n",
    "num=int(input(\"Enter any number: \"))\n",
    "if num>0:\n",
    "    print(\"Positive\")\n",
    "elif num<0:\n",
    "     print(\"Negative\")\n",
    "else:\n",
    "    print(\"Zero\")"
   ]
  },
  {
   "cell_type": "code",
   "execution_count": 9,
   "id": "07945979",
   "metadata": {},
   "outputs": [
    {
     "name": "stdout",
     "output_type": "stream",
     "text": [
      "Enter any charecter: j\n",
      "Lower case\n"
     ]
    }
   ],
   "source": [
    "# 22. Python Program to check uppercase or lowercase alphabets.\n",
    "c=input(\"Enter any charecter: \")\n",
    "if c>='a' and c<='z':\n",
    "    print(\"Lower case\")\n",
    "elif c>='A' and c<='Z':\n",
    "    print(\"Upper case\")\n",
    "else:\n",
    "     print(\"Invalid Input\n",
    "           "
   ]
  },
  {
   "cell_type": "code",
   "execution_count": 14,
   "id": "ba6969e7",
   "metadata": {},
   "outputs": [
    {
     "name": "stdout",
     "output_type": "stream",
     "text": [
      "Enter any charecter: M\n",
      "Upper case\n"
     ]
    }
   ],
   "source": [
    "# way 2 islower() and isupper()\n",
    "c=input(\"Enter any charecter: \")\n",
    "if c.islower():\n",
    "    print(\"Lower case\")\n",
    "elif c.isupper():\n",
    "    print(\"Upper case\")\n",
    "else:\n",
    "    print(\"Invalid Input\")"
   ]
  },
  {
   "cell_type": "code",
   "execution_count": 22,
   "id": "68607b9d",
   "metadata": {},
   "outputs": [
    {
     "name": "stdout",
     "output_type": "stream",
     "text": [
      "Enter any charecter: E\n",
      "E is a vowel\n"
     ]
    }
   ],
   "source": [
    "# 23.WAP to check is entered charecter vowel or consonent\n",
    "str=input(\"Enter any charecter: \")\n",
    "if (str=='a' or str=='e' or str=='i' or str=='o' or str=='u') or(str=='A' or str=='E' or str=='I' or str=='O' or str=='U'):\n",
    "    print(\"{} is a vowel\".format(str))\n",
    "else:\n",
    "    print(\"{} is a Consonent\".format(str))\n",
    "    \n",
    "# we can also do the same using acii code"
   ]
  },
  {
   "cell_type": "code",
   "execution_count": 51,
   "id": "38031815",
   "metadata": {
    "scrolled": true
   },
   "outputs": [
    {
     "name": "stdout",
     "output_type": "stream",
     "text": [
      "enter any value :4\n",
      "4 its a digit\n"
     ]
    }
   ],
   "source": [
    "# 24. WAP to check is entered charecter is alphabet digit or special charecter\n",
    "char=ord(input(\"enter any value :\"))\n",
    "if char>=65 and char<=122:\n",
    "    print(\"{} its a alphabet\".format(chr(char)))\n",
    "elif char>=0 and char<=255:\n",
    "    print(\"{} its a digit\".format(chr(char)))\n",
    "else:\n",
    "     print(\"{} its a special charecter\".format(chr(char)))"
   ]
  },
  {
   "cell_type": "code",
   "execution_count": 3,
   "id": "8644cb4b",
   "metadata": {},
   "outputs": [
    {
     "name": "stdout",
     "output_type": "stream",
     "text": [
      "enter any value :100\n",
      "100 its a digit\n"
     ]
    }
   ],
   "source": [
    "# 24. WAY 2\n",
    "char=input(\"enter any value :\")\n",
    "if char>='A' and char<='Z' or char>='a' and char<='z':\n",
    "    print(\"{} its a alphabet\".format(char))\n",
    "elif char>='0' and char<='9':\n",
    "    print(\"{} its a digit\".format(char))\n",
    "else:\n",
    "     print(\"{} its a special charecter\".format(char))"
   ]
  },
  {
   "cell_type": "code",
   "execution_count": 4,
   "id": "7c58aa05",
   "metadata": {},
   "outputs": [
    {
     "name": "stdout",
     "output_type": "stream",
     "text": [
      "enter any value :K\n",
      "K its a alphabet\n"
     ]
    }
   ],
   "source": [
    "# way 3 MOST RELEVENT WAY\n",
    "char=input(\"enter any value :\")\n",
    "if char.isalpha():\n",
    "    print(\"{} its a alphabet\".format(char))\n",
    "elif char.isdigit():\n",
    "    print(\"{} its a digit\".format(char))\n",
    "else:\n",
    "     print(\"{} its a special charecter\".format(char))    \n",
    "    "
   ]
  },
  {
   "cell_type": "code",
   "execution_count": 14,
   "id": "b2e8b0d7",
   "metadata": {},
   "outputs": [
    {
     "name": "stdout",
     "output_type": "stream",
     "text": [
      "Enter any week day (1-7): 3\n",
      "Its Wednesday\n"
     ]
    }
   ],
   "source": [
    "# 25. WAP to print day name of week in python\n",
    "weekday=input(\"Enter any week day (1-7): \")\n",
    "if weekday=='1':\n",
    "    print(\"Its Monday\")\n",
    "elif weekday=='2':\n",
    "    print(\"Its Tuesday\")\n",
    "elif weekday=='3':\n",
    "    print(\"Its Wednesday\")\n",
    "elif weekday=='4':\n",
    "    print(\"Its Thursday\")\n",
    "elif weekday=='5':\n",
    "    print(\"Its Friday\")\n",
    "elif weekday=='6':\n",
    "    print(\"Its Saturday\")\n",
    "elif weekday=='7':\n",
    "    print(\"Its Sunday\")\n",
    "else:\n",
    "    print(\"Please enter the weekday (0-7)\")\n",
    "    "
   ]
  },
  {
   "cell_type": "code",
   "execution_count": 16,
   "id": "d3ac8c8a",
   "metadata": {},
   "outputs": [
    {
     "name": "stdout",
     "output_type": "stream",
     "text": [
      "Enter First number:2\n",
      "Enter Second number: 2\n",
      "Equal\n"
     ]
    }
   ],
   "source": [
    "# 26.WAP to enter two integer and check whether they are eual or not\n",
    "'''way 1'''\n",
    "num1=int(input(\"Enter First number:\"))\n",
    "num2=int(input(\"Enter Second number: \"))\n",
    "if num1==num2:\n",
    "    print(\"Equal\")\n",
    "else:\n",
    "    print(\"Not Equal\")"
   ]
  },
  {
   "cell_type": "code",
   "execution_count": 22,
   "id": "4962bf96",
   "metadata": {},
   "outputs": [
    {
     "name": "stdout",
     "output_type": "stream",
     "text": [
      "Not Equal\n"
     ]
    }
   ],
   "source": [
    "'''way 2\n",
    "using __eq__() method--> string1.__eq__(string2)\n",
    "compare two object if equal then returns true o.w false\n",
    "'''\n",
    "num1=8\n",
    "num2=3\n",
    "if num1.__eq__(num2):\n",
    "     print(\"Equal\")\n",
    "else:\n",
    "    print(\"Not Equal\")\n",
    "    "
   ]
  },
  {
   "cell_type": "code",
   "execution_count": 24,
   "id": "9d00af13",
   "metadata": {},
   "outputs": [
    {
     "name": "stdout",
     "output_type": "stream",
     "text": [
      "Enter First number:5\n",
      "Enter Second number: 7\n",
      "Not Equal\n"
     ]
    }
   ],
   "source": [
    "''' way 3 \n",
    "using is operator -- true if both operands are idntical\n",
    "'''\n",
    "num1=int(input(\"Enter First number:\"))\n",
    "num2=int(input(\"Enter Second number: \"))\n",
    "if num1 is num2:\n",
    "    print(\"Equal\")\n",
    "else:\n",
    "    print(\"Not Equal\")"
   ]
  },
  {
   "cell_type": "code",
   "execution_count": 18,
   "id": "dd3c3d3b",
   "metadata": {},
   "outputs": [
    {
     "name": "stdout",
     "output_type": "stream",
     "text": [
      "Not Equal\n"
     ]
    }
   ],
   "source": [
    "'''Way 4 '''\n",
    "num1=8\n",
    "num2=4\n",
    "if num1/num2==1:\n",
    "    print(\"Equal\")\n",
    "else:\n",
    "    print(\"Not Equal\")"
   ]
  },
  {
   "cell_type": "code",
   "execution_count": 25,
   "id": "9444ba31",
   "metadata": {},
   "outputs": [
    {
     "name": "stdout",
     "output_type": "stream",
     "text": [
      "Equal\n"
     ]
    }
   ],
   "source": [
    "'''Way 5'''\n",
    "num1=8\n",
    "num2=8\n",
    "if num1-num2==0:\n",
    "    print(\"Equal\")\n",
    "else:\n",
    "    print(\"Not Equal\")"
   ]
  },
  {
   "cell_type": "code",
   "execution_count": 30,
   "id": "43e08926",
   "metadata": {},
   "outputs": [
    {
     "name": "stdout",
     "output_type": "stream",
     "text": [
      "Enter Your age?: 18\n",
      "Eligible for votting\n"
     ]
    }
   ],
   "source": [
    "# 27. python program to check candidate age eligible for casting vote or not\n",
    "# WAY 1\n",
    "age=int(input(\"Enter Your age?: \"))\n",
    "if age in range(0,18):\n",
    "    print(\"Not Eligible for votting\")\n",
    "else:\n",
    "    print(\"Eligible for votting\")\n",
    "    "
   ]
  },
  {
   "cell_type": "code",
   "execution_count": 39,
   "id": "aabcd03e",
   "metadata": {},
   "outputs": [
    {
     "name": "stdout",
     "output_type": "stream",
     "text": [
      "Enter Your age?: 56\n",
      "Eligible for votting\n"
     ]
    }
   ],
   "source": [
    "# WAY 2 only by ending value\n",
    "age=int(input(\"Enter Your age?: \"))\n",
    "if age in range(18):\n",
    "    print(\"Not Eligible for votting\")\n",
    "else:\n",
    "    print(\"Eligible for votting\")"
   ]
  },
  {
   "cell_type": "code",
   "execution_count": 41,
   "id": "5acce8d2",
   "metadata": {},
   "outputs": [
    {
     "name": "stdout",
     "output_type": "stream",
     "text": [
      "Enter Your age?: 18\n",
      "Eligible for votting\n"
     ]
    }
   ],
   "source": [
    "# Way 3 condition\n",
    "age=int(input(\"Enter Your age?: \"))\n",
    "if age>=18:\n",
    "    print(\"Eligible for votting\")\n",
    "else:\n",
    "    print(\"Not Eligible for votting\")\n",
    "    "
   ]
  },
  {
   "cell_type": "code",
   "execution_count": 59,
   "id": "b9c5e711",
   "metadata": {},
   "outputs": [
    {
     "name": "stdout",
     "output_type": "stream",
     "text": [
      "Please Enter Your Name: Bhumi Rathod\n",
      "\t\t** plese enter y or n as your answer! **\n",
      "Do you had Physics subject in 12 th? :y\n",
      "Do you had Mathematics subject in 12 th? :y\n",
      "Do you had Chemistry subject in 12 th? :y\n",
      "Enter your percentage67\n",
      "Bhumi Rathod you are Eligible for Admission\n"
     ]
    }
   ],
   "source": [
    "# 28. Wap to find eligibility of admission for engineering course based on the criteria\n",
    "name=input(\"Please Enter Your Name: \")\n",
    "print(\"\\t\\t** plese enter y or n as your answer! **\")\n",
    "phy=input(\"Do you had Physics subject in 12 th? :\")\n",
    "math=input(\"Do you had Mathematics subject in 12 th? :\")\n",
    "chem=input(\"Do you had Chemistry subject in 12 th? :\")\n",
    "if (phy=='y' and chem=='y' and math=='y')or (phy=='Y' and chem=='Y' and math=='Y'):\n",
    "    per=int(input(\"Enter your percentage\"))\n",
    "    if per>=50:\n",
    "        print(\"{} you are Eligible for Admission\".format(name))\n",
    "    else:\n",
    "        print(\"{} you are Not Eligible for Admission\".format(name))\n",
    "elif(phy=='n' or chem=='n' or math=='n')or (phy=='N' or chem=='N' or math=='N'):\n",
    "    print(\"{} you are Not Eligible for Admission\".format(name))\n",
    "else:\n",
    "    print(\"Invalid Input\")\n",
    "\n",
    "# # Test 1 :\n",
    "# Please Enter Your Name: Raman Sing\n",
    "# \t\t** plese enter y or n as your answer! **\n",
    "# Do you had Physics subject in 12 th? :y\n",
    "# Do you had Mathematics subject in 12 th? :y\n",
    "# Do you had Chemistry subject in 12 th? :o\n",
    "# Invalid Input\n",
    "\n",
    "# Test 2\n",
    "# Please Enter Your Name: Yogita Sahu\n",
    "# \t\t** plese enter y or n as your answer! **\n",
    "# Do you had Physics subject in 12 th? :n\n",
    "# Do you had Mathematics subject in 12 th? :y\n",
    "# Do you had Chemistry subject in 12 th? :n\n",
    "# Yogita Sahu you are Not Eligible for Admission\n",
    "\n",
    "# Test 4\n",
    "# Please Enter Your Name: Tina Dhabi\n",
    "# \t\t** plese enter y or n as your answer! **\n",
    "# Do you had Physics subject in 12 th? :y\n",
    "# Do you had Mathematics subject in 12 th? :y\n",
    "# Do you had Chemistry subject in 12 th? :y\n",
    "# Enter your percentage44\n",
    "# Tina Dhabi you are Not Eligible for Admission\n",
    "\n",
    "# TEST 5\n",
    "# Please Enter Your Name: VAISHNAVI\n",
    "# \t\t** plese enter y or n as your answer! **\n",
    "# Do you had Physics subject in 12 th? :Y\n",
    "# Do you had Mathematics subject in 12 th? :Y\n",
    "# Do you had Chemistry subject in 12 th? :Y\n",
    "# Enter your percentage57\n",
    "# VAISHNAVI you are Eligible for Admission\n"
   ]
  },
  {
   "cell_type": "code",
   "execution_count": 1,
   "id": "94ab6447",
   "metadata": {},
   "outputs": [
    {
     "name": "stdout",
     "output_type": "stream",
     "text": [
      "Enter Your Name: Soheb Ali\n",
      "Enter your Physics Marks: 57\n",
      "Enter your Mathematics Marks: 89\n",
      "Enter your Chemistry Marks: 67\n",
      "Enter your Science Marks: 90\n",
      "Enter your Computer Marks: 89\n",
      "Soheb AliYour Percentage is 78.4\n",
      "B Grade\n"
     ]
    }
   ],
   "source": [
    "# 29. python program to calulate total marks percentage and division of student. \n",
    "# lets suppose student has 5 subject and total marks= 5*100= 500\n",
    "TOTAL=500.0\n",
    "name=input(\"Enter Your Name: \")\n",
    "phy=int(input(\"Enter your Physics Marks: \"))\n",
    "math=int(input(\"Enter your Mathematics Marks: \"))\n",
    "chem=int(input(\"Enter your Chemistry Marks: \"))\n",
    "sci=int(input(\"Enter your Science Marks: \"))\n",
    "comp=int(input(\"Enter your Computer Marks: \"))\n",
    "obt_marks=(phy+chem+sci+math+comp)\n",
    "per=(obt_marks/TOTAL)*100\n",
    "print(\"{}Your Percentage is {}\".format(name,per))\n",
    "if per>=0 and per<=40:\n",
    "    print(\"F Grade\")\n",
    "elif per>=41 and per<=50:\n",
    "    print(\"E Grade\")\n",
    "elif per>=51 and per<=60:\n",
    "    print(\"D Grade\")\n",
    "elif per>=61 and per<=70:\n",
    "    print(\"C Grade\")\n",
    "elif per>=71 and per<=80:\n",
    "    print(\"B Grade\")\n",
    "elif per>=81 and per<=90:\n",
    "    print(\"A Grade\")\n",
    "elif per>=91 and per<=100:\n",
    "    print(\"A+ Grade\")\n",
    "else:\n",
    "    print(\"Invalid\")"
   ]
  },
  {
   "cell_type": "code",
   "execution_count": 10,
   "id": "bedb5d9f",
   "metadata": {},
   "outputs": [
    {
     "name": "stdout",
     "output_type": "stream",
     "text": [
      "Enter Month (1 to 12): 6\n",
      "30 days\n"
     ]
    }
   ],
   "source": [
    "# 30.Python program to enter month number and and print number of days in the month\n",
    "month=int(input(\"Enter Month (1 to 12): \"))\n",
    "if month==2:\n",
    "    year=int(input(\"Enter Year: \"))\n",
    "    if year%400==0 or year%100!=0 and year%4==0:\n",
    "        print(\"29 days\")\n",
    "    else:\n",
    "        print(\"28 days\")\n",
    "elif month in [4,6,9,11]:\n",
    "    print(\"30 days\")\n",
    "elif month in [1,3,5,7,8,10,12]:\n",
    "    print(\"31 days\")\n",
    "else:\n",
    "    print(\"Enter year in (1 to 12)\")\n",
    "    \n",
    "# Test-1\n",
    "# Enter Month (1 to 12): 2\n",
    "# Enter Year: 2000\n",
    "# 29 days\n",
    "\n",
    "# Test-2\n",
    "# Enter Month (1 to 12): 2\n",
    "# Enter Year: 2021\n",
    "# 28 days\n",
    "\n",
    "# Test-3\n",
    "# Enter Month (1 to 12): 4\n",
    "# 30 days\n",
    "\n",
    "# Enter Month (1 to 12): 5\n",
    "# 31 days"
   ]
  },
  {
   "cell_type": "code",
   "execution_count": 16,
   "id": "33777cdc",
   "metadata": {},
   "outputs": [
    {
     "name": "stdout",
     "output_type": "stream",
     "text": [
      "Enter amount: 560\n",
      "Total notes are\n",
      " 500=1 \n",
      " 200=0 \n",
      " 100=0\n",
      " 50=1\n",
      " 20=0\n",
      " 10=1\n"
     ]
    }
   ],
   "source": [
    "# 31. WAP to count total number of notes in entered amount\n",
    "amt=int(input(\"Enter amount: \"))\n",
    "note500,note200,note100,note50,note20,note10=0,0,0,0,0,0\n",
    "if amt>=500:\n",
    "    note500=int(amt/500)\n",
    "    amt-=note500*500\n",
    "if amt>=200:\n",
    "    note200=int(amt/200)\n",
    "    amt-=note200*200\n",
    "if amt>=100:\n",
    "    note100=int(amt/100)\n",
    "    amt-=note100*100\n",
    "if amt>=50:\n",
    "    note50=int(amt/50)\n",
    "    amt-=note50*50\n",
    "if amt>=20:\n",
    "    note20=int(amt/20)\n",
    "    amt-=note20*20\n",
    "if amt>=10:\n",
    "    note10=int(amt/10)\n",
    "    amt-=note10*10\n",
    "print(\"Total notes are\")\n",
    "print(\" 500={} \\n 200={} \\n 100={}\\n 50={}\\n 20={}\\n 10={}\".format(note500,note200,note100,note50,note20,note10))\n"
   ]
  },
  {
   "cell_type": "code",
   "execution_count": 18,
   "id": "1d6268d7",
   "metadata": {},
   "outputs": [
    {
     "name": "stdout",
     "output_type": "stream",
     "text": [
      "Enter angle 1: 40\n",
      "Enter angle 2: 40\n",
      "Enter angle 3: 100\n",
      "Triangle can be formed with 40,40,100 anngles\n"
     ]
    }
   ],
   "source": [
    "# 32 python program to check wheather a triangle can be formed by the given angle\n",
    "# if sum of all angle = 180 then only traingle can be formed\n",
    "angle1=int(input(\"Enter angle 1: \"))\n",
    "angle2=int(input(\"Enter angle 2: \"))\n",
    "angle3=int(input(\"Enter angle 3: \"))\n",
    "sum=angle1+angle2+angle3\n",
    "if sum==180:\n",
    "    print(\"Triangle can be formed with {},{},{} anngles\".format(angle1,angle2,angle3))\n",
    "else:\n",
    "    print(\"Triangle can not be formed with {},{},{} anngles\".format(angle1,angle2,angle3))\n",
    "    "
   ]
  }
 ],
 "metadata": {
  "kernelspec": {
   "display_name": "Python 3",
   "language": "python",
   "name": "python3"
  },
  "language_info": {
   "codemirror_mode": {
    "name": "ipython",
    "version": 3
   },
   "file_extension": ".py",
   "mimetype": "text/x-python",
   "name": "python",
   "nbconvert_exporter": "python",
   "pygments_lexer": "ipython3",
   "version": "3.8.8"
  }
 },
 "nbformat": 4,
 "nbformat_minor": 5
}
