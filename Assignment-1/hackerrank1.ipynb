{
 "cells": [
  {
   "cell_type": "markdown",
   "id": "c9f7be37",
   "metadata": {},
   "source": [
    "<h2>Say \"Hello, World!\" With Python </h2>\n",
    "<a href=\"https://www.hackerrank.com/challenges/py-hello-world/problem\">Click to View Problem Statement</a>"
   ]
  },
  {
   "cell_type": "code",
   "execution_count": 18,
   "id": "dc80f791",
   "metadata": {},
   "outputs": [
    {
     "name": "stdout",
     "output_type": "stream",
     "text": [
      "Hello, World!\n",
      "Hello, World!"
     ]
    }
   ],
   "source": [
    "print(\"Hello, World!\")\n",
    "str1='Hello'\n",
    "str2='World'\n",
    "print(str1,str2,sep=\", \",end=\"!\")\n"
   ]
  },
  {
   "cell_type": "markdown",
   "id": "f9061971",
   "metadata": {},
   "source": [
    "<h2> IF ELSE </h2>\n",
    "<a href=\"https://www.hackerrank.com/challenges/py-if-else/submissions/code/238053530\">Click to View Problem Statement</a>"
   ]
  },
  {
   "cell_type": "code",
   "execution_count": 14,
   "id": "33828470",
   "metadata": {},
   "outputs": [
    {
     "name": "stdout",
     "output_type": "stream",
     "text": [
      "Number? 22\n",
      "Not Weird\n"
     ]
    }
   ],
   "source": [
    "# Way 1\n",
    "n=int(input(\"Number? \"))\n",
    "if n%2==0:\n",
    "    if n>1 and n<6:\n",
    "        print(\"Not Weird\")\n",
    "    elif n>5 and n<21:\n",
    "        print(\"Weird\")    \n",
    "    elif n >20:\n",
    "        print(\"Not Weird\")\n",
    "    else:\n",
    "        print(\"\")\n",
    "else:\n",
    "    print(\"Weird\")"
   ]
  },
  {
   "cell_type": "code",
   "execution_count": 11,
   "id": "4d0f0d64",
   "metadata": {},
   "outputs": [
    {
     "name": "stdout",
     "output_type": "stream",
     "text": [
      "5\n",
      "Weird\n"
     ]
    }
   ],
   "source": [
    "# way 2\n",
    "n = int(input().strip())\n",
    "if n%2==0 and n in range(2,6) or n>20:\n",
    "    print(\"Not Weird\")\n",
    "elif n in range(6,21):\n",
    "    print(\"Weird\")    \n",
    "else:    \n",
    "    print(\"Weird\")  "
   ]
  },
  {
   "cell_type": "markdown",
   "id": "d9a7c1c7",
   "metadata": {},
   "source": [
    "<h2>Arithmetic Operators</h2>\n",
    "<a href=\"https://www.hackerrank.com/challenges/python-arithmetic-operators/problem\">Click to View Problem Statement</a>"
   ]
  },
  {
   "cell_type": "code",
   "execution_count": 21,
   "id": "0d0f6963",
   "metadata": {},
   "outputs": [
    {
     "name": "stdout",
     "output_type": "stream",
     "text": [
      "65\n",
      "23\n",
      "88\n",
      "42\n",
      "1495\n"
     ]
    }
   ],
   "source": [
    "a = int(input())\n",
    "b = int(input())\n",
    "print(\"{}\\n{}\\n{}\".format((a+b),(a-b),(a*b)))\n"
   ]
  },
  {
   "cell_type": "markdown",
   "id": "7c053e1d",
   "metadata": {},
   "source": [
    "<h2>Python: Division</h2>\n",
    "<a href=\"https://www.hackerrank.com/challenges/python-division/problem\">Click to View Problem Statement</a>"
   ]
  },
  {
   "cell_type": "code",
   "execution_count": 23,
   "id": "b2c21665",
   "metadata": {},
   "outputs": [
    {
     "name": "stdout",
     "output_type": "stream",
     "text": [
      "4\n",
      "5\n",
      "0\n",
      "0.8\n"
     ]
    }
   ],
   "source": [
    "    a = int(input())\n",
    "    b = int(input())\n",
    "    print(\"{}\\n{}\".format((a//b),(a/b)))"
   ]
  },
  {
   "cell_type": "markdown",
   "id": "05071ebb",
   "metadata": {},
   "source": [
    "<h2>Loops</h2>\n",
    "<a href=\"https://www.hackerrank.com/challenges/python-loops/problem\">Click to View Problem Statement</a>"
   ]
  },
  {
   "cell_type": "code",
   "execution_count": 24,
   "id": "546e2fd3",
   "metadata": {},
   "outputs": [
    {
     "name": "stdout",
     "output_type": "stream",
     "text": [
      "5\n",
      "0\n",
      "1\n",
      "4\n",
      "9\n",
      "16\n"
     ]
    }
   ],
   "source": [
    "n = int(input())\n",
    "for i in range(0,n):\n",
    "    print(i*i)"
   ]
  },
  {
   "cell_type": "markdown",
   "id": "b9fb8691",
   "metadata": {},
   "source": [
    "<h2>Functions</h2>\n",
    "<a href=\"https://www.hackerrank.com/challenges/write-a-function/problem\">Click to View Problem Statement</a>"
   ]
  },
  {
   "cell_type": "code",
   "execution_count": 29,
   "id": "f8635832",
   "metadata": {},
   "outputs": [
    {
     "name": "stdout",
     "output_type": "stream",
     "text": [
      "Enter year 2000\n",
      "True\n"
     ]
    }
   ],
   "source": [
    "year=int(input(\"Enter year \"))\n",
    "res=is_leap(year)\n",
    "print(res)\n",
    "def is_leap(year):\n",
    "    leap = False\n",
    "    \n",
    "    if year%4==0 and year%100!=0 or year%400==0:\n",
    "        leap=True\n",
    "    \n",
    "    return leap"
   ]
  },
  {
   "cell_type": "markdown",
   "id": "152259de",
   "metadata": {},
   "source": [
    "<h2>Print Functions</h2>\n",
    "<a href=\"https://www.hackerrank.com/challenges/python-print/problem\">Click to View Problem Statement</a>"
   ]
  },
  {
   "cell_type": "code",
   "execution_count": 31,
   "id": "00caa18b",
   "metadata": {},
   "outputs": [
    {
     "name": "stdout",
     "output_type": "stream",
     "text": [
      "6\n",
      "123456"
     ]
    }
   ],
   "source": [
    "def display(n):\n",
    "    for i in range(1,n+1): \n",
    "        print(i,end=\"\")\n",
    "n = int(input())\n",
    "display(n)\n"
   ]
  }
 ],
 "metadata": {
  "kernelspec": {
   "display_name": "Python 3",
   "language": "python",
   "name": "python3"
  },
  "language_info": {
   "codemirror_mode": {
    "name": "ipython",
    "version": 3
   },
   "file_extension": ".py",
   "mimetype": "text/x-python",
   "name": "python",
   "nbconvert_exporter": "python",
   "pygments_lexer": "ipython3",
   "version": "3.8.8"
  }
 },
 "nbformat": 4,
 "nbformat_minor": 5
}
