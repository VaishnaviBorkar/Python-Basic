{
 "cells": [
  {
   "cell_type": "code",
   "execution_count": 19,
   "id": "24c47cc8",
   "metadata": {
    "scrolled": true
   },
   "outputs": [
    {
     "name": "stdout",
     "output_type": "stream",
     "text": [
      "a b c d e f g h i j k l m n o p q r s t u v w x y z \n",
      "\n",
      "A B C D E F G H I J K L M N O P Q R S T U V W X Y Z "
     ]
    }
   ],
   "source": [
    "# 33. python program to print alpgabet from a to z\n",
    "# way 1 ascii value \n",
    "for i in range(97,123):\n",
    "    print(chr(i),end=\" \")\n",
    "print(\"\\n\")\n",
    "# way 2\n",
    "for j in range(ord('A'),ord('Z')+1):\n",
    "    print(chr(j),end=\" \")"
   ]
  },
  {
   "cell_type": "code",
   "execution_count": 26,
   "id": "6103f149",
   "metadata": {},
   "outputs": [
    {
     "name": "stdout",
     "output_type": "stream",
     "text": [
      "Enter any string: VAISHNAVI\n",
      "V=86\n",
      "A=65\n",
      "I=73\n",
      "S=83\n",
      "H=72\n",
      "N=78\n",
      "A=65\n",
      "V=86\n",
      "I=73\n"
     ]
    }
   ],
   "source": [
    "# 34. WAP to print ASCII value of all charecter\n",
    "string=input(\"Enter any string: \")\n",
    "for char in string:\n",
    "    print(\"{}={}\".format(char,ord(char)))"
   ]
  },
  {
   "cell_type": "code",
   "execution_count": 30,
   "id": "d6dfa7e5",
   "metadata": {},
   "outputs": [
    {
     "name": "stdout",
     "output_type": "stream",
     "text": [
      "ENTER NUMBER: 5\n",
      "5\n",
      "10\n",
      "15\n",
      "20\n",
      "25\n",
      "30\n",
      "35\n",
      "40\n",
      "45\n",
      "50\n"
     ]
    }
   ],
   "source": [
    "# 35. WAP to print multiplication table of given number\n",
    "mult=1\n",
    "num=int(input(\"ENTER NUMBER: \"))\n",
    "for i in range(1,11):\n",
    "    mult=num*i\n",
    "    print(mult)"
   ]
  },
  {
   "cell_type": "code",
   "execution_count": 68,
   "id": "c5db4615",
   "metadata": {},
   "outputs": [
    {
     "name": "stdout",
     "output_type": "stream",
     "text": [
      "10,9,8,7,6,5,4,3,2,1,"
     ]
    }
   ],
   "source": [
    "# 36. WAP to print all natural number in reverse order\n",
    "number=[1,2,3,4,5,6,7,8,9,10]\n",
    "for i in number[::-1]:\n",
    "    print(i,end=\",\")"
   ]
  },
  {
   "cell_type": "code",
   "execution_count": 95,
   "id": "4853fd17",
   "metadata": {},
   "outputs": [
    {
     "name": "stdout",
     "output_type": "stream",
     "text": [
      "Enter any number :2 4 7 9 10 23\n",
      "Addition = 55\n"
     ]
    }
   ],
   "source": [
    "# 37. Wap to add all elements enter by user\n",
    "l=0\n",
    "add=0\n",
    "list=[int(l) for l in input(\"Enter any number :\").split(\" \")]\n",
    "for j in list:\n",
    "    add=add+j\n",
    "print(\"Addition =\",add)\n",
    "    "
   ]
  },
  {
   "cell_type": "code",
   "execution_count": 103,
   "id": "eff3d3c8",
   "metadata": {},
   "outputs": [
    {
     "name": "stdout",
     "output_type": "stream",
     "text": [
      "addition of even natural number from 0 to 5 is 6\n"
     ]
    }
   ],
   "source": [
    "# 38. sum of even number between 1 to n\n",
    "n=5\n",
    "add=0\n",
    "for i in range(1,n+1):\n",
    "    if i%2==0:           #get even numbers\n",
    "        add=add+i\n",
    "print(\"addition of even natural number from 0 to {} is {}\".format(n,add))"
   ]
  },
  {
   "cell_type": "code",
   "execution_count": 102,
   "id": "6b604757",
   "metadata": {},
   "outputs": [
    {
     "name": "stdout",
     "output_type": "stream",
     "text": [
      "addition of odd natural number from 0 to 5 is 9\n"
     ]
    }
   ],
   "source": [
    "# 39. sum of odd number between 1 to n\n",
    "n=5\n",
    "add=0\n",
    "for i in range(1,n+1):\n",
    "    if i%2!=0:           #get even numbers\n",
    "        add=add+i\n",
    "print(\"addition of odd natural number from 0 to {} is {}\".format(n,add))"
   ]
  },
  {
   "cell_type": "code",
   "execution_count": 83,
   "id": "656e414f",
   "metadata": {},
   "outputs": [
    {
     "name": "stdout",
     "output_type": "stream",
     "text": [
      "Enter any number : 12\n",
      "21"
     ]
    }
   ],
   "source": [
    "# 40.Wap to swap 1st and last digit of number\n",
    "l=0\n",
    "list=[l for l in input(\"Enter any number : \")]\n",
    "list[-1],list[0]=list[0],list[-1]\n",
    "for i in range(list.__len__()):\n",
    "    print(list[i],end=\"\")\n",
    "#Test1\n",
    "# Enter any number : 345\n",
    "# 543\n",
    "# #  test 2\n",
    "# Enter any number : 675746764\n",
    "# 475746766"
   ]
  },
  {
   "cell_type": "code",
   "execution_count": 5,
   "id": "adf06782",
   "metadata": {
    "scrolled": true
   },
   "outputs": [
    {
     "name": "stdout",
     "output_type": "stream",
     "text": [
      "Enter any number? 563\n",
      "Addition of first and last digit is 8\n"
     ]
    }
   ],
   "source": [
    "# 41 sum of first and last digit of any number\n",
    "num =int(input(\"Enter any number? \"))\n",
    "num = str(num)\n",
    "first=int(num[0])\n",
    "last= int(num[-1])\n",
    "add= first+ last\n",
    "print('Addition of first and last digit is',add)"
   ]
  },
  {
   "cell_type": "code",
   "execution_count": 16,
   "id": "a55cdf8b",
   "metadata": {},
   "outputs": [
    {
     "name": "stdout",
     "output_type": "stream",
     "text": [
      "Enter any number?456\n",
      "First Number is 4 and Last digit is 6\n"
     ]
    }
   ],
   "source": [
    "#42. WAP to print first and last digit nuber\n",
    "n=int(input(\"Enter any number?\"))\n",
    "n=str(n)\n",
    "print(\"First Number is {} and Last digit is {}\" .format(int(n[0]),int(n[-1])))"
   ]
  },
  {
   "cell_type": "code",
   "execution_count": 31,
   "id": "e304a7ca",
   "metadata": {},
   "outputs": [
    {
     "name": "stdout",
     "output_type": "stream",
     "text": [
      "Enter Number? 5432\n",
      "Product of all digit = 120\n"
     ]
    }
   ],
   "source": [
    "# 43. WAP to calculate product of digit\n",
    "# way 1\n",
    "mult=1\n",
    "num=input(\"Enter Number? \")\n",
    "for i in num:\n",
    "    mult*=int(i)\n",
    "print(\"Product of all digit =\",mult)"
   ]
  },
  {
   "cell_type": "code",
   "execution_count": 30,
   "id": "0fb1f71d",
   "metadata": {},
   "outputs": [
    {
     "name": "stdout",
     "output_type": "stream",
     "text": [
      "Enter Number? 56\n",
      "Product of all digit = 30\n"
     ]
    }
   ],
   "source": [
    "# WAP to calculate product of digit\n",
    "# way 2 reverse and muliply\n",
    "mult=1\n",
    "num=int(input(\"Enter Number? \"))\n",
    "for i in range(0,num):\n",
    "    if num>0:\n",
    "        res=num%10\n",
    "        mult*=res\n",
    "    num=num//10  \n",
    "print(\"Product of all digit =\",mult)"
   ]
  },
  {
   "cell_type": "code",
   "execution_count": 36,
   "id": "f07b3637",
   "metadata": {},
   "outputs": [
    {
     "name": "stdout",
     "output_type": "stream",
     "text": [
      "Enter Number9856\n",
      "Reverse of 9856 is 6589\n"
     ]
    }
   ],
   "source": [
    "# 44. WAP to reverse a number using for loop and while toop\n",
    "# 1. FOR LOOP\n",
    "rev=0\n",
    "num=int(input(\"Enter Number\"))\n",
    "n=num\n",
    "for i in range(0,num):\n",
    "    if num>0:\n",
    "        rev=int(rev*10+num%10)\n",
    "    num=num//10\n",
    "print(\"Reverse of {} is {}\".format(n,rev))"
   ]
  },
  {
   "cell_type": "code",
   "execution_count": 42,
   "id": "39aaef80",
   "metadata": {},
   "outputs": [
    {
     "name": "stdout",
     "output_type": "stream",
     "text": [
      "Enter Number897\n",
      "Reverse of 897 is 798\n"
     ]
    }
   ],
   "source": [
    "# 1. WHILE LOOP\n",
    "rev=0\n",
    "num=int(input(\"Enter Number\"))\n",
    "n=num\n",
    "while num>0:\n",
    "    rev=int(rev*10+num%10)\n",
    "    num=num//10\n",
    "print(\"Reverse of {} is {}\".format(n,rev))"
   ]
  },
  {
   "cell_type": "code",
   "execution_count": 55,
   "id": "a58567a9",
   "metadata": {},
   "outputs": [
    {
     "name": "stdout",
     "output_type": "stream",
     "text": [
      "Enter value 4\n",
      "Enter Exponent 5\n",
      "Power = 1024\n"
     ]
    }
   ],
   "source": [
    "# 45. WAP to calculate power using for & while loop\n",
    "n=int(input(\"Enter value \"))\n",
    "exp=int(input(\"Enter Exponent \"))\n",
    "i=1\n",
    "pow=1\n",
    "while i<=exp:\n",
    "    pow=pow*n\n",
    "    i=i+1\n",
    "print(\"Power =\",pow)"
   ]
  },
  {
   "cell_type": "code",
   "execution_count": 59,
   "id": "774ab2ee",
   "metadata": {},
   "outputs": [
    {
     "name": "stdout",
     "output_type": "stream",
     "text": [
      "Enter value 5\n",
      "Enter Exponent 2\n",
      "2 Power of 5 is 25\n"
     ]
    }
   ],
   "source": [
    "# for loop\n",
    "n=int(input(\"Enter value \")) \n",
    "exp=int(input(\"Enter Exponent \"))\n",
    "pow=1\n",
    "for i in range(exp):\n",
    "    pow=pow*n\n",
    "print(\"{} Power of {} is {}\".format(exp,n,pow))"
   ]
  },
  {
   "cell_type": "code",
   "execution_count": 62,
   "id": "3d7d7e7c",
   "metadata": {},
   "outputs": [
    {
     "name": "stdout",
     "output_type": "stream",
     "text": [
      "Enter any number 5\n",
      "factorial of 5 is 120\n"
     ]
    }
   ],
   "source": [
    "#  46. WAP to find factorial of any number for loop\n",
    "n=int(input(\"Enter any number \"))\n",
    "fact=1\n",
    "for i in range(1,n+1):\n",
    "    fact=fact*i\n",
    "print(\"factorial of {} is {}\".format(n,fact))"
   ]
  },
  {
   "cell_type": "code",
   "execution_count": 66,
   "id": "4eeed97f",
   "metadata": {},
   "outputs": [
    {
     "name": "stdout",
     "output_type": "stream",
     "text": [
      "Enter any number 5\n",
      "factorial of 5 is 120\n"
     ]
    }
   ],
   "source": [
    "#  while loop\n",
    "n=int(input(\"Enter any number \"))\n",
    "fact=1\n",
    "j=1\n",
    "while j<=n:\n",
    "    fact=fact*j\n",
    "    j=j+1\n",
    "print(\"factorial of {} is {}\".format(n,fact))"
   ]
  },
  {
   "cell_type": "code",
   "execution_count": 80,
   "id": "532595c1",
   "metadata": {},
   "outputs": [
    {
     "name": "stdout",
     "output_type": "stream",
     "text": [
      "Enter Any number: 370\n",
      "Amstrong number\n"
     ]
    }
   ],
   "source": [
    "#48. wap to check wheather the number is amstrong or not\n",
    "num=int(input(\"Enter Any number: \"))\n",
    "n=num\n",
    "rev=0\n",
    "cube=0\n",
    "while num>0:\n",
    "    rev=num%10\n",
    "    cube+=rev*rev*rev\n",
    "    num=num//10\n",
    "if cube==n:\n",
    "    print(\"Amstrong number\")\n",
    "else:\n",
    "    print(\"Not a Amstrong number\")"
   ]
  },
  {
   "cell_type": "code",
   "execution_count": 3,
   "id": "617d4b4d",
   "metadata": {},
   "outputs": [
    {
     "name": "stdout",
     "output_type": "stream",
     "text": [
      "Enter Principle amount: 5000\n",
      "Enter rate 2.5\n",
      "Enter time 2\n",
      "253.125\n"
     ]
    }
   ],
   "source": [
    "# 49. WAP to calculate compound interest\n",
    "# compound Interest = Amount-Principle Amount\n",
    "# A=P(1+R/100)^t\n",
    "p=int(input(\"Enter Principle amount: \"))\n",
    "R=float(input(\"Enter rate \"))\n",
    "t=int(input(\"Enter time \"))\n",
    "A=p*(pow((1+R/100),t))\n",
    "print(A-p)"
   ]
  },
  {
   "cell_type": "code",
   "execution_count": 17,
   "id": "f15795fb",
   "metadata": {},
   "outputs": [
    {
     "name": "stdout",
     "output_type": "stream",
     "text": [
      "Enter any number 46\n",
      "46 is Not a prime number\n"
     ]
    }
   ],
   "source": [
    "#  50. WAP to check entered number is prime or not fOR LOOP\n",
    "N=int(input(\"Enter any number \"))\n",
    "count=0\n",
    "for i in range(2,N):\n",
    "    if N%i==0:\n",
    "        count=count+1\n",
    "if count>0:\n",
    "    print(\"{} is Not a prime number\".format(N))\n",
    "else:\n",
    "    print(\"{} is a Prime number\".format(N))"
   ]
  },
  {
   "cell_type": "code",
   "execution_count": 19,
   "id": "cc360974",
   "metadata": {},
   "outputs": [
    {
     "name": "stdout",
     "output_type": "stream",
     "text": [
      "Enter any number 23\n",
      "23 is a Prime number\n"
     ]
    }
   ],
   "source": [
    "#  50. WAP to check entered number is prime or not WHILE LOOP\n",
    "N=int(input(\"Enter any number \"))\n",
    "i=2\n",
    "count=0\n",
    "while i<N:\n",
    "    if N%i==0:\n",
    "        count=count+1\n",
    "    i=i+1\n",
    "if count<0:\n",
    "    print(\"{} is Not a prime number\".format(N))\n",
    "else:\n",
    "    print(\"{} is a Prime number\".format(N))"
   ]
  },
  {
   "cell_type": "code",
   "execution_count": 23,
   "id": "5a75321e",
   "metadata": {},
   "outputs": [
    {
     "name": "stdout",
     "output_type": "stream",
     "text": [
      "Enter a Number 272\n",
      "272 is a palimdrom number\n"
     ]
    }
   ],
   "source": [
    "# 51. WAP to check the palimdrom number.\n",
    "num=int(input(\"Enter a Number \"))\n",
    "n=num\n",
    "rev=0\n",
    "while num>0:\n",
    "    rev=(rev*10)+(num%10)\n",
    "    num=int(num//10)\n",
    "if rev==n:\n",
    "    print(\"{} is a palimdrom number\".format(n))\n",
    "else:\n",
    "    print(\"{} is not a palimdrom number\".format(n))"
   ]
  },
  {
   "cell_type": "code",
   "execution_count": 33,
   "id": "d7c34972",
   "metadata": {},
   "outputs": [
    {
     "name": "stdout",
     "output_type": "stream",
     "text": [
      "Enter any number between (0 to 10) 6\n",
      "Six\n"
     ]
    }
   ],
   "source": [
    "# 52. Wap to print number in words (need switch case but using dictionary)\n",
    "numbers={\n",
    "         0:'zero',\n",
    "         1:'one',\n",
    "         2:'Two',\n",
    "         3:'Three',\n",
    "         4:'Four',\n",
    "         5:'Five',\n",
    "         6:'Six',\n",
    "         7:'Seven',\n",
    "         8:'Eight',\n",
    "         9:'Nine',\n",
    "         10:'Ten',\n",
    "        }\n",
    "num=int(input(\"Enter any number between (0 to 10) \"))\n",
    "if num not in numbers:\n",
    "    print(\"please enter number between (0 to 10)\")\n",
    "else:\n",
    "    print(numbers[num])\n",
    "    \n",
    "# Test 1\n",
    "# Enter any number between (0 to 10) 10\n",
    "# Ten \n",
    "\n",
    "# Test 2\n",
    "# Enter any number between (0 to 10) 45\n",
    "# please enter number between (0 to 10)"
   ]
  },
  {
   "cell_type": "code",
   "execution_count": 44,
   "id": "4f25fb7d",
   "metadata": {},
   "outputs": [
    {
     "name": "stdout",
     "output_type": "stream",
     "text": [
      "Enter number 1: 12\n",
      "Enter number 2: 140\n",
      "Hcf is 4\n"
     ]
    }
   ],
   "source": [
    "# WAP to find HCF\n",
    "# way 1\n",
    "num1=int(input(\"Enter number 1: \"))\n",
    "num2=int(input(\"Enter number 2: \"))\n",
    "if num1>num2:\n",
    "    small=num2\n",
    "else:\n",
    "    small=num1\n",
    "for i in range(1,small+1):\n",
    "    if(num1%i==0) and (num2%i==0):\n",
    "        hcf=i\n",
    "print(\"Hcf is\",hcf)"
   ]
  },
  {
   "cell_type": "code",
   "execution_count": 43,
   "id": "1da158ea",
   "metadata": {},
   "outputs": [
    {
     "name": "stdout",
     "output_type": "stream",
     "text": [
      "Enter number 1: 30\n",
      "Enter number 2: 78\n",
      "HCF is 6\n"
     ]
    }
   ],
   "source": [
    "# way 1 -- gcd() of math class\n",
    "import math\n",
    "num1=int(input(\"Enter number 1: \"))\n",
    "num2=int(input(\"Enter number 2: \"))\n",
    "hcf=math.gcd(num1,num2)\n",
    "print(\"HCF is {}\".format(hcf))"
   ]
  },
  {
   "cell_type": "code",
   "execution_count": 48,
   "id": "e9a846c9",
   "metadata": {},
   "outputs": [
    {
     "name": "stdout",
     "output_type": "stream",
     "text": [
      "Enter number 1: 8\n",
      "Enter number 2: 15\n",
      "LCF Is 120\n"
     ]
    }
   ],
   "source": [
    "# 54.WAP to find LCF\n",
    "# way 1\n",
    "num1=int(input(\"Enter number 1: \"))\n",
    "num2=int(input(\"Enter number 2: \"))\n",
    "if num1>num2:\n",
    "    small=num2\n",
    "else:\n",
    "    small=num1\n",
    "for i in range(1,small+1):\n",
    "    if(num1%i==0) and (num2%i==0):\n",
    "        hcf=i\n",
    "print(\"LCF Is\",int((num1/hcf)*num2))"
   ]
  }
 ],
 "metadata": {
  "kernelspec": {
   "display_name": "Python 3",
   "language": "python",
   "name": "python3"
  }
 },
 "nbformat": 4,
 "nbformat_minor": 5
}
