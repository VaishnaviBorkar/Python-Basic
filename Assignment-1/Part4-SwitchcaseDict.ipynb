{
 "cells": [
  {
   "cell_type": "code",
   "execution_count": 1,
   "id": "9fa2779e",
   "metadata": {},
   "outputs": [
    {
     "name": "stdout",
     "output_type": "stream",
     "text": [
      "Enter Month from (1 to 12)5\n",
      "5 Month has 31 days\n"
     ]
    }
   ],
   "source": [
    "# 55. Write Python Program to print number of days in a month using switch case.\n",
    "months={\n",
    "     1:31,\n",
    "     2:'28 or 29',\n",
    "     3:31,\n",
    "     4:30,\n",
    "     5:31,\n",
    "     6:30,\n",
    "     7:31,\n",
    "     8:31,\n",
    "     9:30,\n",
    "     10:31,\n",
    "     11:30,\n",
    "     12:31\n",
    "}\n",
    "month=int(input(\"Enter Month from (1 to 12)\" ))\n",
    "if month in range(1,13):\n",
    "    print(\"{} Month has {} days\".format(month,months[month]))\n",
    "else:\n",
    "    print(\"Please Enter month in between (0 to 12)\")"
   ]
  },
  {
   "cell_type": "code",
   "execution_count": 18,
   "id": "9c6f3bbf",
   "metadata": {},
   "outputs": [
    {
     "name": "stdout",
     "output_type": "stream",
     "text": [
      "Enter Weekday in number between (0 to 7) 4\n",
      "Thursday\n"
     ]
    }
   ],
   "source": [
    "# 56. Write Python Program to print day of week using  switch Statement\n",
    "weekdays={\n",
    "         1:'Monday',\n",
    "         2:'Tuesday',\n",
    "         3:'Wednesday',\n",
    "         4:'Thursday',\n",
    "         5:'Friday',\n",
    "         6:'Saturday',\n",
    "         7:'Sunday',\n",
    "        }\n",
    "num=int(input(\"Enter Weekday in number between (0 to 7) \"))\n",
    "if num not in weekdays:\n",
    "    print(\"please enter Weekday in number between (0 to 7)\")\n",
    "else:\n",
    "    print(weekdays[num])"
   ]
  },
  {
   "cell_type": "code",
   "execution_count": 21,
   "id": "7022b40a",
   "metadata": {},
   "outputs": [
    {
     "name": "stdout",
     "output_type": "stream",
     "text": [
      "Enter First value: 6\n",
      "Enter Second value: 3\n",
      "Enter any operator from + ,- ,* ,/ ,% : +\n",
      "9\n"
     ]
    }
   ],
   "source": [
    "# 57. Write Python Program to create calculator using switch Statement\n",
    "a=int(input(\"Enter First value: \"))\n",
    "b=int(input(\"Enter Second value: \"))\n",
    "c=input(\"Enter any operator from + ,- ,* ,/ ,% : \")\n",
    "operand={\n",
    "    '+':a+b,\n",
    "    '-':a-b,\n",
    "    '*':a*b,\n",
    "    '/':a/b,\n",
    "    '%':a%b\n",
    "}\n",
    "print(operand[c])"
   ]
  },
  {
   "cell_type": "code",
   "execution_count": null,
   "id": "c46f61f1",
   "metadata": {},
   "outputs": [],
   "source": [
    "# 58. Write Python Program to check even or odd number using switch case\n"
   ]
  },
  {
   "cell_type": "code",
   "execution_count": 30,
   "id": "f7f95270",
   "metadata": {},
   "outputs": [
    {
     "name": "stdout",
     "output_type": "stream",
     "text": [
      "Enter any charecter: U\n",
      "Voval\n"
     ]
    }
   ],
   "source": [
    "# 59. Write Python Program to check vowel or consonant using switch case\n",
    "alpha={\n",
    "    'a':'Voval',\n",
    "    'e':'Voval',\n",
    "    'i':'Voval',\n",
    "    'o':'Voval',\n",
    "    'u':'Voval',\n",
    "    'A':'Voval',\n",
    "    'E':'Voval',\n",
    "    'I':'Voval',\n",
    "    'O':'Voval',\n",
    "    'U':'Voval'\n",
    "}\n",
    "char =input(\"Enter any charecter: \")\n",
    "if char not in alpha:\n",
    "    print(\"Not vovel\")\n",
    "else:\n",
    "    print(alpha[char])"
   ]
  },
  {
   "cell_type": "code",
   "execution_count": 34,
   "id": "53a2ee57",
   "metadata": {},
   "outputs": [
    {
     "name": "stdout",
     "output_type": "stream",
     "text": [
      "Please enter M/F as your genderF\n",
      "you are  Female\n"
     ]
    }
   ],
   "source": [
    "# 60. Write Python Program to print gender (Male/Female) program according to given M/F.\n",
    "Gender={\n",
    "    'M':'Male',\n",
    "    'F':'Female'\n",
    "}\n",
    "g=input(\"Please enter M/F as your gender\")\n",
    "print(\"you are \",Gender[g])"
   ]
  }
 ],
 "metadata": {
  "kernelspec": {
   "display_name": "Python 3",
   "language": "python",
   "name": "python3"
  },
  "language_info": {
   "codemirror_mode": {
    "name": "ipython",
    "version": 3
   },
   "file_extension": ".py",
   "mimetype": "text/x-python",
   "name": "python",
   "nbconvert_exporter": "python",
   "pygments_lexer": "ipython3",
   "version": "3.8.8"
  }
 },
 "nbformat": 4,
 "nbformat_minor": 5
}
