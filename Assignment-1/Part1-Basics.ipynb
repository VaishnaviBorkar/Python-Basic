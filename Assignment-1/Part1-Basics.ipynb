{
 "cells": [
  {
   "cell_type": "code",
   "execution_count": 1,
   "id": "34045331",
   "metadata": {},
   "outputs": [
    {
     "name": "stdout",
     "output_type": "stream",
     "text": [
      "Hello,World!\n",
      "Hello,World!"
     ]
    }
   ],
   "source": [
    "# 1. prohram to print hellow world\n",
    "# way 1\n",
    "print(\"Hello,World!\")\n",
    "# way 2\n",
    "s1=\"Hello\"\n",
    "s2=\"World\"\n",
    "print(s1,s2,sep=\",\",end=\"!\")\n"
   ]
  },
  {
   "cell_type": "code",
   "execution_count": 2,
   "id": "d46652ac",
   "metadata": {},
   "outputs": [
    {
     "name": "stdout",
     "output_type": "stream",
     "text": [
      "addition = 68\n",
      "enter 1st number :12\n",
      "enter 2st number :67\n",
      "addition of 12 and 67=79\n"
     ]
    }
   ],
   "source": [
    "# 2. WAP TO ADD TWO Integers\n",
    "# way 1\n",
    "num1=23\n",
    "num2=45\n",
    "print(\"addition =\",num1+num2)\n",
    "# way 2\n",
    "a=int(input(\"enter 1st number :\"))\n",
    "b=int(input(\"enter 2st number :\"))\n",
    "add=a+b\n",
    "print(\"addition of {} and {}={}\".format(a,b,add))"
   ]
  },
  {
   "cell_type": "code",
   "execution_count": 8,
   "id": "3293cbe3",
   "metadata": {},
   "outputs": [
    {
     "name": "stdout",
     "output_type": "stream",
     "text": [
      "Before swapping\n",
      "a=12 b=23\n",
      "after swapping\n",
      "a=23 b=12\n",
      "Before swapping\n",
      "p=55 q=66\n",
      "After swapping\n",
      "p=66 q=55\n",
      "Before swapping\n",
      "a=90 b=16\n",
      "after swapping\n",
      "a=16 b=90\n"
     ]
    }
   ],
   "source": [
    "# 3. Wap to swap two numbers\n",
    "# way 1\n",
    "a=12\n",
    "b=23\n",
    "print(\"Before swapping\\na={} b={}\".format(a,b))\n",
    "a=a+b\n",
    "b=a-b\n",
    "a=a-b\n",
    "print(\"after swapping\\na={} b={}\".format(a,b))\n",
    "\n",
    "# way 2 using third variable\n",
    "p,q=55,66\n",
    "print(\"Before swapping\\np={} q={}\".format(p,q))\n",
    "temp=p\n",
    "p=q\n",
    "q=temp\n",
    "print(\"After swapping\\np={} q={}\".format(p,q))\n",
    "\n",
    "# way 3 using multi variable diclaration\n",
    "\n",
    "a,b=90,16\n",
    "print(\"Before swapping\\na={} b={}\".format(a,b))\n",
    "a,b=b,a\n",
    "print(\"after swapping\\na={} b={}\".format(a,b))\n"
   ]
  },
  {
   "cell_type": "code",
   "execution_count": 10,
   "id": "621bd302",
   "metadata": {},
   "outputs": [
    {
     "name": "stdout",
     "output_type": "stream",
     "text": [
      "enter 1st floating point number :679876.267784837723636378\n",
      "enter 2nd floating point number :7748773647.7788667786648735678\n",
      "addition =7749453524.046652\n",
      "<class 'float'>\n"
     ]
    }
   ],
   "source": [
    "# 4. Wap to multiply two floating point numbers\n",
    "n1=float(input(\"enter 1st floating point number :\"))\n",
    "n2=float(input(\"enter 2nd floating point number :\"))\n",
    "print(\"addition ={}\".format(n1+n2))\n",
    "print(type(n1+n2))"
   ]
  },
  {
   "cell_type": "code",
   "execution_count": 16,
   "id": "e9cf4462",
   "metadata": {},
   "outputs": [
    {
     "name": "stdout",
     "output_type": "stream",
     "text": [
      "2138 is even \n",
      "0.359375\n",
      "0\n",
      "529\n"
     ]
    }
   ],
   "source": [
    "# 5. program to perform all arithematic operations in python\n",
    "def operator(a,b,c):\n",
    "    result=(a*b)-(b+c)+a\n",
    "    return result\n",
    "a=33\n",
    "b=66\n",
    "c=7\n",
    "res=operator(a,b,c)\n",
    "if res%2==0:\n",
    "    print(\"{} is even \".format(res))\n",
    "else:\n",
    "     print(\"{} is odd \".format(res))\n",
    "n1=23\n",
    "n2=64\n",
    "print(n1/n2)\n",
    "print(n1//n2)\n",
    "print(n1**2)"
   ]
  },
  {
   "cell_type": "code",
   "execution_count": 17,
   "id": "3fa2973f",
   "metadata": {},
   "outputs": [
    {
     "name": "stdout",
     "output_type": "stream",
     "text": [
      "Enter feet :42\n",
      "42 feet = 137.70491803278688 meter\n"
     ]
    }
   ],
   "source": [
    "# 6 program to convert feet to meter\n",
    "feet=int(input(\"Enter feet :\"))\n",
    "meter=feet/0.305\n",
    "print(\"{} feet = {} meter\".format(feet,meter))"
   ]
  },
  {
   "cell_type": "code",
   "execution_count": 19,
   "id": "ace9d873",
   "metadata": {},
   "outputs": [
    {
     "name": "stdout",
     "output_type": "stream",
     "text": [
      "Enter temp in celsius :12\n",
      "12 celcius =53.6 ferhnite \n"
     ]
    }
   ],
   "source": [
    "# 7. WAP to convert celcius to ferhnite\n",
    "cel=int(input(\"Enter temp in celsius :\"))\n",
    "ferh=cel*(9/5)+32\n",
    "print(\"{} celcius ={} ferhnite \".format(cel,ferh))"
   ]
  },
  {
   "cell_type": "code",
   "execution_count": 20,
   "id": "6bc9c2fa",
   "metadata": {},
   "outputs": [
    {
     "name": "stdout",
     "output_type": "stream",
     "text": [
      "Enter temp in ferhnite :53.6\n",
      "53.6 ferhnite= 12.000000000000002 celcius\n"
     ]
    }
   ],
   "source": [
    "# 8 Wap to convert ferhnite to celcius\n",
    "ferh=float(input(\"Enter temp in ferhnite :\"))\n",
    "cel=(5/9)*(ferh-32)\n",
    "print(\"{} ferhnite= {} celcius\".format(ferh,cel))"
   ]
  },
  {
   "cell_type": "code",
   "execution_count": 44,
   "id": "21c79d0e",
   "metadata": {},
   "outputs": [
    {
     "name": "stdout",
     "output_type": "stream",
     "text": [
      "Integer 28\n",
      "Float  24\n",
      "String 50\n",
      "Str 58\n",
      "Empty list 56\n",
      "list 80\n",
      "list with tuple 80\n",
      "set 216\n",
      "Empty tuple 40\n",
      "tuple 72\n",
      "Empty dict 64\n",
      "dict 232\n"
     ]
    }
   ],
   "source": [
    "# 9. Wap to find size of data types in python\n",
    "import sys\n",
    "num=23\n",
    "print(\"Integer\",sys.getsizeof(num))\n",
    "num2=5699.5668888888\n",
    "print(\"Float \",sys.getsizeof(num2))\n",
    "char=\"A\"\n",
    "print(\"String\" ,sys.getsizeof(char)) # 49+total charecters in string\n",
    "str='Vaishnavi'\n",
    "print(\"Str\" ,sys.getsizeof(str)) \n",
    "list=[]\n",
    "print(\"Empty list\" ,sys.getsizeof(list)) #56+8*0= 56\n",
    "list=[56,89,78]\n",
    "print(\"list\" ,sys.getsizeof(list)) #56+8*total elements i.e 3 (56+8*3)\n",
    "list=[56,89,(67,56,900)]\n",
    "print(\"list with tuple\" ,sys.getsizeof(list)) #56+8*0=56\n",
    "set={'ram','Sham','Ghaasham','78'}\n",
    "print(\"set\" ,sys.getsizeof(set))\n",
    "tuple=()\n",
    "print(\"Empty tuple\" ,sys.getsizeof(tuple))\n",
    "tuple=('88','78','56',9)\n",
    "print(\"tuple\" ,sys.getsizeof(tuple))\n",
    "dict={}\n",
    "print(\"Empty dict\" ,sys.getsizeof(dict))\n",
    "dict={1:'vaish',2:'radha'}\n",
    "print(\"dict\" ,sys.getsizeof(dict))"
   ]
  },
  {
   "cell_type": "code",
   "execution_count": 49,
   "id": "fde6d415",
   "metadata": {},
   "outputs": [
    {
     "name": "stdout",
     "output_type": "stream",
     "text": [
      "Enter a charecter :f\n",
      "ASCII Code of f is 102\n"
     ]
    }
   ],
   "source": [
    "# 10 print the ascii code of charecter\n",
    "char=input(\"Enter a charecter :\")\n",
    "asc=ord(char)\n",
    "print(\"ASCII Code of {} is {}\".format(char,asc))"
   ]
  },
  {
   "cell_type": "code",
   "execution_count": 50,
   "id": "4ee6ca29",
   "metadata": {},
   "outputs": [
    {
     "name": "stdout",
     "output_type": "stream",
     "text": [
      "enter radius :4.6\n",
      "area of circle is : 66.44239999999999\n"
     ]
    }
   ],
   "source": [
    "# 11 WAP to print area of circle\n",
    "radius=float(input(\"enter radius :\"))\n",
    "area=(3.14*radius*radius)\n",
    "print(\"area of circle is :\",area)"
   ]
  },
  {
   "cell_type": "code",
   "execution_count": 51,
   "id": "32b4dd80",
   "metadata": {},
   "outputs": [
    {
     "name": "stdout",
     "output_type": "stream",
     "text": [
      "Enter side of a square :23\n",
      "area of square is : 529\n"
     ]
    }
   ],
   "source": [
    "# 12. WAP To calculate area of square\n",
    "side=int(input(\"Enter side of a square :\"))\n",
    "print(\"area of square is :\",(side*side))"
   ]
  },
  {
   "cell_type": "code",
   "execution_count": 52,
   "id": "19f008d7",
   "metadata": {},
   "outputs": [
    {
     "name": "stdout",
     "output_type": "stream",
     "text": [
      "Enter length of rectangle :2.3\n",
      "Enter breath of rectanglr :1.5\n",
      "area of rectangle : 3.4499999999999997\n"
     ]
    }
   ],
   "source": [
    "# 13. WAP To calculate area of rectangle\n",
    "length=float(input(\"Enter length of rectangle :\"))\n",
    "breadth=float(input(\"Enter breath of rectanglr :\"))\n",
    "area=length*breadth\n",
    "print(\"area of rectangle : {}\".format(area))"
   ]
  },
  {
   "cell_type": "code",
   "execution_count": 62,
   "id": "7de2a822",
   "metadata": {},
   "outputs": [
    {
     "name": "stdout",
     "output_type": "stream",
     "text": [
      "Enter the days :401\n",
      "Year= 1 weeks= 5 day= 1\n"
     ]
    }
   ],
   "source": [
    "# 14. WAP to convert days into year weeks and day\n",
    "days=int(input(\"Enter the days :\"))\n",
    "year=int(days/365)\n",
    "weeks=int((days%365)/7)\n",
    "day=int((days%365)%7)\n",
    "print(\"Year=\",year,\"weeks=\",weeks,\"day=\",day)"
   ]
  }
 ],
 "metadata": {
  "kernelspec": {
   "display_name": "Python 3",
   "language": "python",
   "name": "python3"
  },
  "language_info": {
   "codemirror_mode": {
    "name": "ipython",
    "version": 3
   },
   "file_extension": ".py",
   "mimetype": "text/x-python",
   "name": "python",
   "nbconvert_exporter": "python",
   "pygments_lexer": "ipython3",
   "version": "3.8.8"
  }
 },
 "nbformat": 4,
 "nbformat_minor": 5
}
